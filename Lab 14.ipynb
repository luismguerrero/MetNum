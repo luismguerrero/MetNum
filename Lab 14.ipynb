{
 "cells": [
  {
   "cell_type": "markdown",
   "metadata": {},
   "source": [
    "# Lab 14 "
   ]
  },
  {
   "cell_type": "markdown",
   "metadata": {},
   "source": [
    "Velocidades medidas y acumuladas para la caida del paracaidista"
   ]
  },
  {
   "cell_type": "code",
   "execution_count": 24,
   "metadata": {
    "collapsed": false
   },
   "outputs": [
    {
     "name": "stdout",
     "output_type": "stream",
     "text": [
      "|Tiempo |  Va. medido | Va. Cal - 1.10  | Va. Cal - 17  |\n",
      "|     1 |          10 |           8.953 |         11.24 |\n",
      "|     2 |        16.3 |          16.405 |        18.571 |\n",
      "|     3 |          23 |          22.607 |        23.729 |\n",
      "|     4 |        27.5 |          27.769 |        27.556 |\n",
      "|     5 |          31 |          32.066 |        30.509 |\n",
      "|     6 |        35.6 |          35.642 |        32.856 |\n",
      "|     7 |          39 |          38.618 |        34.766 |\n",
      "|     8 |        41.5 |          41.095 |        36.351 |\n",
      "|     9 |        42.9 |          43.157 |        37.687 |\n",
      "|    10 |          45 |          44.873 |        38.829 |\n",
      "|    11 |          46 |          46.301 |        39.817 |\n",
      "|    12 |        45.5 |           47.49 |        40.678 |\n",
      "|    13 |          46 |           48.48 |        41.437 |\n",
      "|    14 |          49 |          49.303 |        42.111 |\n",
      "|    15 |          50 |          49.989 |        42.712 |\n",
      "\n",
      "\n",
      " Matriz : \n",
      "\n",
      "[[  0.           8.95318221]\n",
      " [  1.          16.4049808 ]\n",
      " [  2.          22.60716691]\n",
      " [  3.          27.76929146]\n",
      " [  4.          32.06576523]\n",
      " [  5.          35.64175156]\n",
      " [  6.          38.61807097]\n",
      " [  7.          41.09528323]\n",
      " [  8.          43.15708499]\n",
      " [  9.          44.87313757]\n",
      " [ 10.          46.3014206 ]\n",
      " [ 11.          47.49019095]\n",
      " [ 12.          48.47961314]\n",
      " [ 13.          49.30311642]\n",
      " [ 14.          49.98852419]] \n",
      "\n",
      "[105.0, 552.74858023184197, 4627.8308504386741, 1015.0]\n",
      "2.7092528172\n",
      "17.8851356284\n"
     ]
    }
   ],
   "source": [
    "import pylab as plt\n",
    "import numpy as np\n",
    "import math\n",
    "med=[10,16.3,23,27.5,31,35.6,39,41.5,42.9,45,46,45.5,46,49,50]\n",
    "B=[]\n",
    "A1=[]\n",
    "lo=0\n",
    "li2=0\n",
    "g=9.8\n",
    "c=12.5\n",
    "m=68.1\n",
    "n = 15\n",
    "x=[]\n",
    "x2=0\n",
    "vx=[]\n",
    "vy=[]\n",
    "print'|{0:6} |  {1:10} | {2:15} | {3:13} |'.format('Tiempo','Va. medido','Va. Cal - 1.10','Va. Cal - 17')\n",
    "for t in range(n):\n",
    "    v=((g*m)/c)*(1-math.exp((-c/m)*(t+1)))\n",
    "    v1=((g*m)/c)*((t+1)/(3.75+(t+1)))\n",
    "    print'|{0:6} |  {1:10} | {2:15} | {3:13} |'.format(t+1,med[t],round(v,3),round(v1,3))\n",
    "    A1.append([])\n",
    "    for j in range(1):\n",
    "        A1[t].append(t)\n",
    "        A1[t].append(v)\n",
    "        \n",
    "A=np.array(A1)\n",
    "\n",
    "print \"\\n\\n Matriz : \\n\"\n",
    "print A, \"\\n\"\n",
    "for l in range(2):\n",
    "    m=(A.size)/2\n",
    "    for k in range(m):\n",
    "        lo=A[k,l]+lo\n",
    "        if l==0:\n",
    "            li2=(A[k,l]**2)+li2\n",
    "        if l==1:\n",
    "            x2=A[k,0]*A[k,1]+x2\n",
    "        if k==(m-1):\n",
    "            x.append(lo)\n",
    "            \n",
    "            if l==1:\n",
    "                x.append(x2)\n",
    "                x.append(li2)\n",
    "            lo=0\n",
    "print x\n",
    "a2=((m*x[3])-(x[0])**2)\n",
    "a1=((m*x[2])-(x[0]*x[1]))/((m*x[3])-(x[0])**2)\n",
    "a0=(x[1]/m)-a1*(x[0]/m)\n",
    "\n",
    "print a1\n",
    "print a0\n",
    "plt.title(\"Grafica de A\")\n",
    "plt.grid(True)\n",
    "plt.axis([-20,20,0,60])\n",
    "plt.ylabel('x2')\n",
    "plt.xlabel('x1')\n",
    "for k in range(m):\n",
    "    y=a0+a1*k\n",
    "    vx.append(k)\n",
    "    vy.append(y)\n",
    "    plt.plot(A[k,0],A[k,1], 'cs')\n",
    "plt.plot(vx,vy,'g')\n",
    "plt.show()"
   ]
  },
  {
   "cell_type": "code",
   "execution_count": null,
   "metadata": {
    "collapsed": true
   },
   "outputs": [],
   "source": []
  }
 ],
 "metadata": {
  "kernelspec": {
   "display_name": "Python 2",
   "language": "python",
   "name": "python2"
  },
  "language_info": {
   "codemirror_mode": {
    "name": "ipython",
    "version": 2
   },
   "file_extension": ".py",
   "mimetype": "text/x-python",
   "name": "python",
   "nbconvert_exporter": "python",
   "pygments_lexer": "ipython2",
   "version": "2.7.11"
  }
 },
 "nbformat": 4,
 "nbformat_minor": 0
}
