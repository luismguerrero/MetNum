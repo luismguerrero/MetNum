{
 "cells": [
  {
   "cell_type": "markdown",
   "metadata": {},
   "source": [
    "# Lab 10"
   ]
  },
  {
   "cell_type": "code",
   "execution_count": 1,
   "metadata": {
    "collapsed": false
   },
   "outputs": [
    {
     "name": "stdout",
     "output_type": "stream",
     "text": [
      "\n",
      "\tREGLA DE CRAMER\n",
      "\n",
      "\n",
      "A11x + A12y + A13z = B1\n",
      "A21x + A22y + A23z = B2\n",
      "A31x + A32y + A33z = B3\n",
      "\n",
      "Ingresar valores:\n",
      "\n",
      "Ingrese A11 > 0.3\n",
      "Ingrese A12 > 0.52\n",
      "Ingrese A13 > 1\n",
      "Ingrese B1 > -0.01\n",
      "\n",
      "Ingrese A21 > 0.5\n",
      "Ingrese A22 > 1\n",
      "Ingrese A23 > 1.9\n",
      "Ingrese B2 > 0.67\n",
      "\n",
      "Ingrese A31 > 0.1\n",
      "Ingrese A32 > 0.3\n",
      "Ingrese A33 > 0.5\n",
      "Ingrese B3 > -0.44\n",
      "\n",
      "P =>  [-14.89999999999975, -29.499999999999513, 19.79999999999968]\n"
     ]
    }
   ],
   "source": [
    " \n",
    "def sarrus(A):\n",
    "    val = ((A[0][0]*A[1][1]*A[2][2])+\\\n",
    "           (A[0][1]*A[1][2]*A[2][0])+\\\n",
    "           (A[0][2]*A[1][0]*A[2][1]))-\\\n",
    "          ((A[2][0]*A[1][1]*A[0][2])+\\\n",
    "           (A[2][1]*A[1][2]*A[0][0])+\\\n",
    "           (A[2][2]*A[1][0]*A[0][1]))\n",
    "    return val\n",
    " \n",
    "def main():\n",
    "    \n",
    "    d = [[0.0,0.0,0.0,0.0],\\\n",
    "              [0.0,0.0,0.0,0.0],\\\n",
    "              [0.0,0.0,0.0,0.0]]\n",
    "    res = [0.0,0.0,0.0]\n",
    "    \n",
    "    print \"\\n\\tREGLA DE CRAMER\\n\"\n",
    "    print \"\\nA11x + A12y + A13z = B1\\nA21x + A22y + A23z = B2\\nA31x + A32y + A33z = B3\\n\\nIngresar valores:\\n\"\n",
    "    d[0][0] = input(\"Ingrese A11 > \")\n",
    "    d[0][1] = input(\"Ingrese A12 > \")\n",
    "    d[0][2] = input(\"Ingrese A13 > \")\n",
    "    d[0][3] = input(\"Ingrese B1 > \")\n",
    "    d[1][0] = input(\"\\nIngrese A21 > \")\n",
    "    d[1][1] = input(\"Ingrese A22 > \")\n",
    "    d[1][2] = input(\"Ingrese A23 > \")\n",
    "    d[1][3] = input(\"Ingrese B2 > \")\n",
    "    d[2][0] = input(\"\\nIngrese A31 > \")\n",
    "    d[2][1] = input(\"Ingrese A32 > \")\n",
    "    d[2][2] = input(\"Ingrese A33 > \")\n",
    "    d[2][3] = input(\"Ingrese B3 > \")\n",
    "    \n",
    "    mat_x = [[d[0][3],d[0][1],d[0][2]],\\\n",
    "             [d[1][3],d[1][1],d[1][2]],\\\n",
    "             [d[2][3],d[2][1],d[2][2]]]\n",
    "    mat_y = [[d[0][0],d[0][3],d[0][2]],\\\n",
    "             [d[1][0],d[1][3],d[1][2]],\\\n",
    "             [d[2][0],d[2][3],d[2][2]]]\n",
    "    mat_z = [[d[0][0],d[0][1],d[0][3]],\\\n",
    "             [d[1][0],d[1][1],d[1][3]],\\\n",
    "             [d[2][0],d[2][1],d[2][3]]]\n",
    "    det_mat = sarrus(d)\n",
    "    \n",
    "    if (det_mat != 0):\n",
    "       \n",
    "        det_matx = sarrus(mat_x)\n",
    "        det_maty = sarrus(mat_y)\n",
    "        det_matz = sarrus(mat_z)\n",
    "        res[0] = det_matx/det_mat\n",
    "        res[1] = det_maty/det_mat\n",
    "        res[2] = det_matz/det_mat\n",
    "        print \"\\nP => \",res\n",
    "       \n",
    " \n",
    "main()"
   ]
  },
  {
   "cell_type": "code",
   "execution_count": null,
   "metadata": {
    "collapsed": true
   },
   "outputs": [],
   "source": []
  },
  {
   "cell_type": "code",
   "execution_count": null,
   "metadata": {
    "collapsed": true
   },
   "outputs": [],
   "source": []
  }
 ],
 "metadata": {
  "kernelspec": {
   "display_name": "Python 2",
   "language": "python",
   "name": "python2"
  },
  "language_info": {
   "codemirror_mode": {
    "name": "ipython",
    "version": 2
   },
   "file_extension": ".py",
   "mimetype": "text/x-python",
   "name": "python",
   "nbconvert_exporter": "python",
   "pygments_lexer": "ipython2",
   "version": "2.7.11"
  }
 },
 "nbformat": 4,
 "nbformat_minor": 0
}
