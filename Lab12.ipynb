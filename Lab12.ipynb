{
 "cells": [
  {
   "cell_type": "markdown",
   "metadata": {},
   "source": [
    "# Lab 12 "
   ]
  },
  {
   "cell_type": "markdown",
   "metadata": {},
   "source": [
    "# Punto A"
   ]
  },
  {
   "cell_type": "code",
   "execution_count": 4,
   "metadata": {
    "collapsed": false
   },
   "outputs": [
    {
     "name": "stdout",
     "output_type": "stream",
     "text": [
      "Original\n",
      "\n",
      "[0, 2, 5]\n",
      "[1, 0, 1]\n",
      "[8, 3, 0]\n",
      "\n",
      "TRANSPUESTA\n",
      "\n",
      "[0, 1, 8]\n",
      "[2, 0, 3]\n",
      "[5, 1, 0]\n"
     ]
    }
   ],
   "source": [
    "matriz = [[0,2,5],[1,0,1],[8,3,0]]\n",
    " \n",
    "def print_r(matriz):\n",
    "    for fila in matriz:\n",
    "        print fila\n",
    " \n",
    "def transpuesta(matriz):\n",
    "    rows = len(matriz)\n",
    "    cols = len(matriz[0])\n",
    "    return [[matriz[j][i] for j in xrange(rows)] for i in xrange(cols)]\n",
    " \n",
    "print \"Original\\n\"\n",
    "print_r(matriz)\n",
    "print \"\\nTRANSPUESTA\\n\"\n",
    "print_r(transpuesta(matriz))"
   ]
  },
  {
   "cell_type": "markdown",
   "metadata": {},
   "source": [
    "# Punto B"
   ]
  },
  {
   "cell_type": "code",
   "execution_count": 5,
   "metadata": {
    "collapsed": false
   },
   "outputs": [
    {
     "name": "stdout",
     "output_type": "stream",
     "text": [
      "1) La suma E+B es: \n",
      "[[5, 8, 15], [8, 4, 10], [5, 0, 10]]\n",
      "\n",
      "2) La suma A+F no se puede realizar porque no tienen la misma dimension mxn\n",
      "\n",
      "3) La resta de B-E es: \n",
      "[[3, -2, -1], [-6, 0, 4], [-3, 0, -2]]\n",
      "\n",
      "4) Al multiplicar [B] por el escalar 7, tenemos: \n",
      "[[28, 21, 49], [7, 14, 49], [7, 0, 28]]\n",
      "\n",
      "5)El producto entre ExB es: \n",
      "[[17, 13, 74], [33, 25, 75], [22, 12, 52]]\n",
      "\n",
      "6) La transpuesta de [C] es: \n",
      "[[3, 6, 1]]\n",
      "\n",
      "7)El producto entre BxA es: \n",
      "[[54, 76], [41, 53], [24, 31]]\n",
      "\n",
      "8)La transpuesta de [D] es: \n",
      "[[9, 2], [4, -1], [3, 7], [-6, 5]]\n",
      "\n",
      "9) El producto [A]x[C] no se puede realizar porque el numero de columnas de A, \n",
      " no coincide con el numero de filas de C\n",
      "\n",
      "10) El producto de [I]x[B] es: \n",
      "[[4, 3, 7], [1, 2, 7], [1, 0, 4]]\n",
      "\n",
      "11) El producto de [E]^T x [E] es: \n",
      "[[66, 19, 53], [19, 29, 46], [53, 46, 109]]\n",
      "\n",
      "12) El producto de [C]^T x [C] es: \n",
      "[[46]]\n"
     ]
    }
   ],
   "source": [
    "A=[[4,7],[1,2],[5,6]]\n",
    "B=[[4,3,7],[1,2,7],[1,0,4]]\n",
    "C=[[3],[6],[1]]\n",
    "D=[[9,4,3,-6],[2,-1,7,5]]\n",
    "E=[[1,5,8],[7,2,3],[4,0,6]]\n",
    "F=[[3,0,1],[1,7,3]]\n",
    "G=[7,6,4]\n",
    "I=[[1,0,0],[0,1,0],[0,0,1]]\n",
    "\n",
    "#1)[E]+[B]\n",
    "sumaEB=[]\n",
    "for i in range(3):#filas\n",
    "    sumaEB.append([])\n",
    "    for j in range(3):#columnas\n",
    "        sumaEB[i].append(E[i][j]+B[i][j])\n",
    "\n",
    "print \"1) La suma E+B es: \"\n",
    "print sumaEB\n",
    "\n",
    "#2)[A]+[F]\n",
    "print \"\\n2) La suma A+F no se puede realizar porque no tienen la misma dimension mxn\"\n",
    "\n",
    "#3)[B]-[E]\n",
    "restaBE=[]\n",
    "for i in range(3):#filas\n",
    "    restaBE.append([])\n",
    "    for j in range(3):#columnas\n",
    "         restaBE[i].append(B[i][j]-E[i][j])\n",
    "\n",
    "print \"\\n3) La resta de B-E es: \"\n",
    "print restaBE\n",
    "\n",
    "#4)7x[B]\n",
    "escalar=[]\n",
    "for i in range(3):#filas\n",
    "    escalar.append([])\n",
    "    for j in range(3):#columnas\n",
    "         escalar[i].append(7*B[i][j])\n",
    "\n",
    "print \"\\n4) Al multiplicar [B] por el escalar 7, tenemos: \"\n",
    "print escalar\n",
    "\n",
    "def multiplicacion(a,b):\n",
    "    product=[]\n",
    "    for i in range(len(a)):\n",
    "        product.append([0]*(len(b[0])))\n",
    "    for i in range(len(a)):\n",
    "        for j in range(len(b[0])):\n",
    "            for k in range(len(a[0])):\n",
    "                product[i][j]+= a[i][k]*b[k][j]\n",
    "    return product\n",
    "\n",
    "def transpuesta(a):\n",
    "    trans=[]\n",
    "    for i in range(len(a[0])):\n",
    "        trans.append(len(a)*[0])\n",
    "        for j in range(len(trans[0])):\n",
    "            for k in range(len(trans)):\n",
    "                trans[k][j]=a[j][k]\n",
    "    return trans\n",
    "#5[E]x[B]\n",
    "print \"\\n5)El producto entre ExB es: \"\n",
    "print multiplicacion(E,B)\n",
    "\n",
    "#6){C}^T\n",
    "print \"\\n6) La transpuesta de [C] es: \"\n",
    "print transpuesta(C)\n",
    "\n",
    "#7) [B]x[A]\n",
    "print \"\\n7)El producto entre BxA es: \"\n",
    "print multiplicacion(B,A)\n",
    "\n",
    "#8)[D]^T\n",
    "print \"\\n8)La transpuesta de [D] es: \"        \n",
    "print transpuesta(D)\n",
    "\n",
    "#9)[A]x{C}\n",
    "print \"\\n9) El producto [A]x[C] no se puede realizar porque el numero de columnas de A, \\n no coincide con el numero de filas de C\"\n",
    "\n",
    "#10)[F]x[B]\n",
    "print \"\\n10) El producto de [I]x[B] es: \"            \n",
    "print multiplicacion(I,B)\n",
    "\n",
    "#11)[E]^T x [E] --> transpuesta de E por la matriz E           \n",
    "print \"\\n11) El producto de [E]^T x [E] es: \"\n",
    "print multiplicacion(transpuesta(E),E)\n",
    "\n",
    "#12) {C}^T x {C}--> producto de la transpuesta de C por la matriz C\n",
    "print \"\\n12) El producto de [C]^T x [C] es: \"\n",
    "print multiplicacion(transpuesta(C),C)"
   ]
  },
  {
   "cell_type": "markdown",
   "metadata": {},
   "source": [
    "# Punto C"
   ]
  },
  {
   "cell_type": "code",
   "execution_count": 6,
   "metadata": {
    "collapsed": false
   },
   "outputs": [
    {
     "name": "stdout",
     "output_type": "stream",
     "text": [
      "\n",
      "a)\n",
      "[A]x[B]:   [[4.0, 15], [8.0, 29], [9.0, 29]]\n",
      "\n",
      "[A]x[C]:   [[-16, 4], [-24, 4], [2, -10]]\n",
      "\n",
      "[B]x[C]:   [[-7, 1], [-5.0, 1.0]]\n",
      "\n",
      "[C]x[B] es:[[1.0, 2], [-2.5, -7]]\n",
      "\n",
      "b)\n",
      "*La multiplicacion [B]x[A]: \n",
      "No se pueden multiplicar.\n",
      "\n",
      "   *La multiplicacion [C]x[A]: \n",
      "No se pueden multiplicar.\n",
      "\n",
      "c) [B]x[C] No es igual a [C]x[B] por o tanto no cumple la propiedad conmutativa\n"
     ]
    }
   ],
   "source": [
    "A=[[1,6],[3,10],[7,4]]\n",
    "B=[[1,3],[0.5, 2]]\n",
    "C=[[2,-2],[-3,1]]\n",
    "def multiplicacion(a,b):\n",
    "    product=[]\n",
    "    for i in range(len(a)):\n",
    "        product.append([0]*(len(b[0])))\n",
    "    for i in range(len(a)):\n",
    "        for j in range(len(b[0])):\n",
    "            for k in range(len(a[0])):\n",
    "                product[i][j]+= a[i][k]*b[k][j]\n",
    "    return product\n",
    "\n",
    "def verificar(matriz1,matriz2):\n",
    "    if(len(matriz1[0])!=len(matriz2)):\n",
    "        print \"No se pueden multiplicar.\"\n",
    "    if(len(matriz1[0])==len(matriz2)):\n",
    "        resultado=multiplicacion(matriz1,matriz2)\n",
    "        return resultado\n",
    "    \n",
    "print \"\\na)\\n[A]x[B]:   \"+str(verificar(A,B))\n",
    "print \"\\n[A]x[C]:   \"+str(verificar(A,C))\n",
    "print \"\\n[B]x[C]:   \"+str(verificar(B,C))\n",
    "print \"\\n[C]x[B] es:\"+str(verificar(C,B))\n",
    "\n",
    "print \"\\nb)\\n*La multiplicacion [B]x[A]: \"\n",
    "verificar(B,A)\n",
    "print \"\\n   *La multiplicacion [C]x[A]: \"\n",
    "verificar(C,A)\n",
    "print \"\\nc) [B]x[C] No es igual a [C]x[B] por o tanto no cumple la propiedad conmutativa\""
   ]
  },
  {
   "cell_type": "markdown",
   "metadata": {},
   "source": [
    "# Punto D"
   ]
  },
  {
   "cell_type": "code",
   "execution_count": 7,
   "metadata": {
    "collapsed": false
   },
   "outputs": [
    {
     "name": "stdout",
     "output_type": "stream",
     "text": [
      "El determinante de la matriz de coeficientes es: 0.86\n",
      "Eliminacion de incognitas: \n",
      "    El valor de X1 es= 404.6512\n",
      "    El valor de X2 es= 56.5116\n"
     ]
    },
    {
     "name": "stderr",
     "output_type": "stream",
     "text": [
      "C:\\Users\\luismiguel\\Anaconda2\\lib\\site-packages\\matplotlib\\axes\\_axes.py:519: UserWarning: No labelled objects found. Use label='...' kwarg on individual plots.\n",
      "  warnings.warn(\"No labelled objects found. \"\n"
     ]
    }
   ],
   "source": [
    "import math\n",
    "import pylab as plt\n",
    "vectory=[];\n",
    "res=0\n",
    "otro=0\n",
    "vectorx=[]\n",
    "vectory=[]\n",
    "vectorx1=[]\n",
    "vectory1=[]\n",
    "for t in range(1500):\n",
    "    t=t+0.5\n",
    "    x1=float(format((0.11*t)+12.0, '.4g'))\n",
    "    vectorx.append(x1)\n",
    "    vectory.append(t)\n",
    "    x2=float(format(((2.0/17.4)*t)+10, '.4g'))\n",
    "    vectorx1.append(x2)\n",
    "    vectory1.append(t)\n",
    "    if x1==x2:\n",
    "        otro=x1\n",
    "\n",
    "plt.plot(vectory1,vectorx1,'r',linewidth=2)\n",
    "plt.plot(vectory,vectorx,'g',linewidth=2)\n",
    "plt.hold(True)\n",
    "plt.axis([380,430,50,60])\n",
    "plt.xlabel('x1')\n",
    "plt.ylabel('x2')\n",
    "plt.title('Grafica Ecuacion Lineal')\n",
    "plt.grid(True)\n",
    "plt.savefig(\"test.png\")\n",
    "plt.legend(loc='lower right')\n",
    "plt.show()\n",
    "\n",
    "#determinante\n",
    "matrizCoef=[[-1.1,10],[-2,17.4]]\n",
    "det=matrizCoef[0][0]*matrizCoef[1][1]-matrizCoef[0][1]*matrizCoef[1][0]\n",
    "print \"El determinante de la matriz de coeficientes es: %.2f\" %det\n",
    "aux=[]\n",
    "sol=[120,174]\n",
    "aux2=[]\n",
    "for i in range(len(matrizCoef)):\n",
    "    aux.append([])\n",
    "    if(i==0):\n",
    "        for j in range(len(matrizCoef[0])):\n",
    "            aux[i].append(matrizCoef[1][0]*matrizCoef[i][j])\n",
    "        aux2.append(matrizCoef[1][0]*sol[i])\n",
    "    else:\n",
    "        for j in range(len(matrizCoef[1])):\n",
    "            aux[i].append(matrizCoef[0][0]*matrizCoef[i][j])\n",
    "        aux2.append(matrizCoef[0][0]*sol[i])\n",
    "print \"Eliminacion de incognitas: \"\n",
    "var2=(aux2[0]-aux2[1])/(aux[0][1]-aux[1][1])\n",
    "var1=(sol[0]-matrizCoef[0][1]*var2)/matrizCoef[0][0]\n",
    "print \"    El valor de X1 es= %.4f\" %var1\n",
    "print \"    El valor de X2 es= %.4f\" %var2"
   ]
  },
  {
   "cell_type": "markdown",
   "metadata": {},
   "source": [
    "# Punto E"
   ]
  },
  {
   "cell_type": "code",
   "execution_count": 11,
   "metadata": {
    "collapsed": false
   },
   "outputs": [
    {
     "name": "stdout",
     "output_type": "stream",
     "text": [
      "Valor determinante : 1\n",
      " \n",
      "Valor variable 0 es :6\n",
      "Valor variable 1 es :-8\n",
      "Valor variable 2 es :5\n",
      "\n",
      "Sustitucion\n",
      "9\n",
      "9\n",
      "10\n"
     ]
    }
   ],
   "source": [
    "import math\n",
    "valores=[0,2,5,2,1,1,3,1,0]\n",
    "valores2=[0,2,5,2,1,1,3,1,0]\n",
    "valor=[9,9,10]\n",
    "re=[]\n",
    "fo=0\n",
    "fo1=0\n",
    "fo2=0\n",
    "def determinante(x):\n",
    "    x=(valores[0]*((valores[4]*valores[8])-(valores[7]*valores[5])))\n",
    "    x1=(valores[1]*((valores[3]*valores[8])-(valores[6]*valores[5])))\n",
    "    x2=(valores[2]*((valores[3]*valores[7])-(valores[4]*valores[6])))\n",
    "    l=x-x1+x2\n",
    "    return l\n",
    "def reescribir(lo):\n",
    "    \n",
    "    valores[lo]=valor[0]\n",
    "    lo=lo+3\n",
    "    valores[lo]=valor[1]\n",
    "    lo=lo+3\n",
    "    valores[lo]=valor[2]\n",
    "    return l\n",
    "    \n",
    "l=determinante(valores)\n",
    "print \"Valor determinante : \"+str(l)\n",
    "print \" \"\n",
    "for i in [0, 1, 2]:\n",
    "    reescribir(i)\n",
    "    p=determinante(valores)/l\n",
    "    valores=[0,2,5,2,1,1,3,1,0]\n",
    "    print \"Valor variable \"+str(i)+\" es :\"+str(p)\n",
    "    re.append(p)\n",
    "print \"\\nSustitucion\"\n",
    "for i in [0, 1, 2]:\n",
    "    fo=re[i]*valores[i]+fo\n",
    "    fo1=re[i]*valores[i+3]+fo1\n",
    "    fo2=re[i]*valores[i+6]+fo2\n",
    "    \n",
    "    if i==2:\n",
    "        print fo\n",
    "        print fo1\n",
    "        print fo2"
   ]
  },
  {
   "cell_type": "markdown",
   "metadata": {},
   "source": [
    "# Punto F"
   ]
  },
  {
   "cell_type": "code",
   "execution_count": 14,
   "metadata": {
    "collapsed": false
   },
   "outputs": [
    {
     "name": "stdout",
     "output_type": "stream",
     "text": [
      "A> Metodo de Gauss simple:\n",
      " \n",
      "X1 es 0.5\n",
      "X2 es 8.0\n",
      "X3 es -6.0\n",
      "\n",
      "B> Sustituyendo Valores:\n",
      " \n",
      "E 1  27.0\n",
      "E 2  -61.5\n",
      "E 3  -21.5\n"
     ]
    }
   ],
   "source": [
    "matrizCoef=[[10.0,2.0,-1.0],[-3.0,-6.0, 2.0],[1.0,1.0,5.0]]\n",
    "sol=[27.0,-61.5,-21.5]\n",
    "x,d,y,i,j,k=[],0.0,0.0,0,0,0\n",
    "n=len(matrizCoef)\n",
    "\n",
    "for m in range (len(matrizCoef)):\n",
    "    x.append(0*len(matrizCoef[0]))\n",
    "\n",
    "print \"A> Metodo de Gauss simple:\\n \"\n",
    "\n",
    "for i in range(0,n):\n",
    "    for j in range(i,n):\n",
    "        if(i==j):\n",
    "            d=matrizCoef[i][j]\n",
    "            for s in range (0,n):\n",
    "                matrizCoef[i][s]=((matrizCoef[i][s])/d)\n",
    "            sol[i]=((sol[i])/d)\n",
    "        else:\n",
    "            d=matrizCoef[j][i]\n",
    "            for s in range (0,n):\n",
    "                matrizCoef[j][s]=matrizCoef[j][s]-(d*matrizCoef[i][s])\n",
    "            sol[j]=sol[j]-(d*sol[i])\n",
    "i=n-1\n",
    "j=n-1\n",
    "\n",
    "while(i>=0):\n",
    "    y=sol[i]\n",
    "    while(j>=i):\n",
    "        y=y-x[j]*matrizCoef[i][j]\n",
    "        j-=1\n",
    "    x[i]=y\n",
    "    i-=1\n",
    "    j=n-1\n",
    "for i in range (0,n):\n",
    "    k=i+1\n",
    "    print \"X%d es %.1f\"%(k,x[i])\n",
    "    \n",
    "print \"\\nB> Sustituyendo Valores:\\n \"\n",
    "ecuacionA=10*x[0]+2*x[1]-x[2]\n",
    "ecuacionB=-3*x[0]-6*x[1]+2*x[2]\n",
    "ecuacionC=x[0]+x[1]+5*x[2]\n",
    "\n",
    "print \"E 1 \",ecuacionA\n",
    "print \"E 2 \",ecuacionB\n",
    "print \"E 3 \",ecuacionC"
   ]
  },
  {
   "cell_type": "markdown",
   "metadata": {
    "collapsed": true
   },
   "source": [
    "# Punto G"
   ]
  },
  {
   "cell_type": "code",
   "execution_count": 1,
   "metadata": {
    "collapsed": false
   },
   "outputs": [
    {
     "name": "stdout",
     "output_type": "stream",
     "text": [
      "La variable X1 es: 14\n",
      "La variable X2 es: -32\n",
      "La variable X3 es: -5\n",
      "Satisface la Ec 1 :  1.0\n",
      "Satisface la Ec 2 :  -4.0\n",
      "Satisface la Ec 3 :  5.0\n"
     ]
    }
   ],
   "source": [
    "var,piv,matriz = 0,0,[[2.0,1.0,-1.0,1.0],[5.0,2.0,2.0,-4.0],[3.0,1.0,1.0,5.0]]\n",
    "\n",
    "var = len(matriz[0])-1\n",
    "    \n",
    "def cambiar(matriz,piv,var):\n",
    "    temp=0.0\n",
    "    temp=matriz[piv][piv]\n",
    "    for y in range(0,var+1):\n",
    "        matriz[piv][y]=matriz[piv][y]/temp\n",
    "        \n",
    "def ceros(matriz,piv,var):\n",
    "    for x in range(0,var):\n",
    "        if (x!=piv):\n",
    "            c = matriz[x][piv]\n",
    "            for z in range(0,var+1):\n",
    "                matriz[x][z]=((-1*c)*matriz[piv][z])+matriz[x][z]\n",
    "                \n",
    "for a in range(0,var):\n",
    "    cambiar(matriz,piv,var)\n",
    "    ceros(matriz,piv,var)\n",
    "    piv += 1\n",
    "for x in range(0,var):\n",
    "    print \"La variable X%d es: %d\"%(x+1,matriz[x][var])\n",
    "    \n",
    "ecua1=2*matriz[0][3]+matriz[1][3]-matriz[2][3]\n",
    "ecua2=5*matriz[0][3]+2*matriz[1][3]+2*matriz[2][3]\n",
    "ecua3=3*matriz[0][3]+matriz[1][3]+matriz[2][3]\n",
    "print \"Satisface la Ec 1 : \", ecua1\n",
    "print \"Satisface la Ec 2 : \", ecua2\n",
    "print \"Satisface la Ec 3 : \", ecua3"
   ]
  },
  {
   "cell_type": "code",
   "execution_count": null,
   "metadata": {
    "collapsed": true
   },
   "outputs": [],
   "source": []
  },
  {
   "cell_type": "code",
   "execution_count": null,
   "metadata": {
    "collapsed": true
   },
   "outputs": [],
   "source": []
  }
 ],
 "metadata": {
  "kernelspec": {
   "display_name": "Python 2",
   "language": "python",
   "name": "python2"
  },
  "language_info": {
   "codemirror_mode": {
    "name": "ipython",
    "version": 2
   },
   "file_extension": ".py",
   "mimetype": "text/x-python",
   "name": "python",
   "nbconvert_exporter": "python",
   "pygments_lexer": "ipython2",
   "version": "2.7.11"
  }
 },
 "nbformat": 4,
 "nbformat_minor": 0
}
