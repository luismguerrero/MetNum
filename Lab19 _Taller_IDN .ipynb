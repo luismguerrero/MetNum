{
 "cells": [
  {
   "cell_type": "markdown",
   "metadata": {},
   "source": [
    "# LAB 19\n",
    "Integración y diferenciación"
   ]
  },
  {
   "cell_type": "markdown",
   "metadata": {},
   "source": [
    "# Implemente la regla del trapecio de un segmento y múltiples segmentos (sub 21.1.2) de la Figura 21.9."
   ]
  },
  {
   "cell_type": "code",
   "execution_count": 9,
   "metadata": {
    "collapsed": false
   },
   "outputs": [
    {
     "name": "stdout",
     "output_type": "stream",
     "text": [
      "Con un Segmento Y Ejemplo 21.1:\n",
      "Por Trapecio para un segmento es: 0.1728. Representa un error de: 1.467733\n",
      "\n",
      "\n",
      "Con Multiples Segmentos Y Ejemplo 21.2: \n",
      "\n",
      "Por segmentos multiples: 1.0688. Representa un error de: 0.571733\n"
     ]
    }
   ],
   "source": [
    "import math\n",
    "x0=0\n",
    "xa=0.8\n",
    "real=1.640533\n",
    "vec=[0.0,0.4,0.8]\n",
    "\n",
    "def function(x):\n",
    "    fx=0.2+(25*x)-(200*(math.pow(x,2)))+(675*(math.pow(x,3)))-(900*(math.pow(x,4)))+(400*(math.pow(x,5)))\n",
    "    return fx\n",
    "\n",
    "def trap(h,f0,f1):\n",
    "    value=h*(f0+f1)/2\n",
    "    return value\n",
    "\n",
    "def vector():\n",
    "    global aux\n",
    "    aux=[]\n",
    "    for j in range(3):\n",
    "        aux.append(function(vec[j]))\n",
    "\n",
    "def trapm(h,n,f):\n",
    "    sum=f[0]\n",
    "    for i in range (1,n):\n",
    "        sum=sum+(2*f[i])\n",
    "    sum=sum+f[n]\n",
    "    valor=h*sum/2\n",
    "    return valor\n",
    "\n",
    "vector() \n",
    "\n",
    "print \"Con un Segmento Y Ejemplo 21.1:\"\n",
    "print \"Por Trapecio para un segmento es: %.4f. Representa un error de: \\\n",
    "%f\"%(trap(0.8,function(x0),function(xa)),real-trap(0.8,function(x0),function(xa)))\n",
    "\n",
    "print \"\\n\\nCon Multiples Segmentos Y Ejemplo 21.2: \"\n",
    "print \"\\nPor segmentos multiples: %.4f. Representa un error de: %f\" %(trapm(0.4, 2, aux),real-trapm(0.4, 2, aux))"
   ]
  },
  {
   "cell_type": "markdown",
   "metadata": {},
   "source": [
    " # Implemente la regla de Simpson ⅓ para un segmento y múltiples segmentos (sub 21.2.2) de las Figuras 21.13a y 21.13c.\n",
    " # Desarrolle el Ejemplo 21.4 y 21.5"
   ]
  },
  {
   "cell_type": "code",
   "execution_count": 10,
   "metadata": {
    "collapsed": false
   },
   "outputs": [
    {
     "name": "stdout",
     "output_type": "stream",
     "text": [
      "Regla de Simpson 1/3 para un segmento y ejemplo 21.4:\n",
      " \n",
      "    Valor de Simpson simple = 1.367467 y el Error=16.64porciento\n",
      "\n",
      "Regla de Simpson 1/3 para segmentos multiples y ejemplo 21.5:\n",
      " \n",
      "   Valor de Simpson de aplicación múltiple = 1.623467 y El error = 1.04porciento\n"
     ]
    }
   ],
   "source": [
    "import math\n",
    "\n",
    "real=1.640533\n",
    "\n",
    "def function(x):\n",
    "    fx=0.2+(25*x)-(200*(math.pow(x,2)))+(675*(math.pow(x,3)))-(900*(math.pow(x,4)))+(400*(math.pow(x,5)))\n",
    "    return fx\n",
    "\n",
    "def vector():\n",
    "    j,k=0,0\n",
    "    global aux,aux2\n",
    "    aux=[]\n",
    "    aux2=[]\n",
    "    while j<1.0:\n",
    "        aux.append(function(j))\n",
    "        j+=0.2\n",
    "    while k<1.0:\n",
    "        aux2.append(function(k))\n",
    "        k+=0.4\n",
    "        \n",
    "def simp13(h,f0,f1,f2):\n",
    "    Simp13=2*h*(f0+4*f1+f2)/6\n",
    "    return Simp13\n",
    "\n",
    "def simp13m(h,n,f):\n",
    "    sum=function(0)\n",
    "    for i in range (1,n-1,2):\n",
    "        sum=sum+4*f[i]+2*f[i+1]\n",
    "    sum=sum+4*f[n-1]+f[n]\n",
    "    Simp13m=h*sum/3\n",
    "    return Simp13m\n",
    "\n",
    "vector()\n",
    "print \"Regla de Simpson 1/3 para un segmento y ejemplo 21.4:\\n \"\n",
    "print \"    Valor de Simpson simple = %f y el Error=%.2fporciento\\\n",
    "\" %(simp13(0.4,aux2[0],aux2[1],aux2[2]),(real-simp13(0.4,aux2[0],aux2[1],aux2[2]))*100/real)\n",
    "print \"\\nRegla de Simpson 1/3 para segmentos multiples y ejemplo 21.5:\\n \"\n",
    "print \"   Valor de Simpson de aplicación múltiple = %f y El error = %.2fporciento\\\n",
    "\"%(simp13m(0.2,4,aux),(real-simp13m(0.2,4,aux))*100/real)"
   ]
  },
  {
   "cell_type": "markdown",
   "metadata": {},
   "source": [
    " # Implemente la regla de Simpson 3/8 para un segmento y múltiples segmentos de las Figuras 21.13b y 21.13d"
   ]
  },
  {
   "cell_type": "code",
   "execution_count": 11,
   "metadata": {
    "collapsed": false
   },
   "outputs": [
    {
     "name": "stdout",
     "output_type": "stream",
     "text": [
      "Regla de Simpson 3/8 para un segmento:\n",
      "    Valor por regla de Simpson= 1.519170. Lo cual da un error = 7.40porciento\n",
      "\n",
      "Regla de Simpson 3/8 para segmentos multiples :\n",
      "    Valor por regla de Simpson= 1.645077. Lo cual da un error = -0.28porciento\n"
     ]
    }
   ],
   "source": [
    "import math \n",
    "\n",
    "real=1.640533\n",
    "sum=0\n",
    "def function(x):\n",
    "    fx=0.2+(25*x)-(200*(math.pow(x,2)))+(675*(math.pow(x,3)))-(900*(math.pow(x,4)))+(400*(math.pow(x,5)))\n",
    "    return fx\n",
    "\n",
    "def vector():\n",
    "    j,k=0,0\n",
    "    global aux,aux2\n",
    "    aux=[]\n",
    "    aux2=[]\n",
    "    while j<1.0:\n",
    "        aux.append(function(j))\n",
    "        j+=0.8/3\n",
    "    while k<=0.8:\n",
    "        aux2.append(function(k))\n",
    "        k+=0.8/5\n",
    "        \n",
    "def Simp38(h,f0,f1,f2,f3):\n",
    "    simp38=3*h*(f0+3*(f1+f2)+f3)/8\n",
    "    return simp38\n",
    "\n",
    "def trap(h,f0,f1):\n",
    "    value=h*(f0+f1)/2\n",
    "    return value\n",
    "\n",
    "def simp13m(h,n,f):\n",
    "    sum=function(0)\n",
    "    for i in range (1,n-1,2):\n",
    "        sum=sum+4*f[i]+2*f[i+1]\n",
    "    sum=sum+4*f[n-1]+f[n]\n",
    "    Simp13m=h*sum/3\n",
    "    return Simp13m\n",
    "\n",
    "def SimpInt(a,b,n,f):\n",
    "    sum1=0\n",
    "    h=(b-a)/n\n",
    "    if n==1:\n",
    "        sum1=trap(h,f[n-1],f[n])\n",
    "    else:\n",
    "        m=n*1.0\n",
    "        odd=(n*1.0/2)-int(n*1.0/2)\n",
    "        if (odd>0 and n>1):\n",
    "            sum1=sum1+Simp38(h,f[n-3],f[n-2],f[n-1],f[n])\n",
    "            m=n-3\n",
    "        if(m>1):\n",
    "            sum1=sum1+simp13m(h,m,f)\n",
    "    simpint=sum1\n",
    "    return simpint\n",
    "\n",
    "vector()\n",
    "print \"Regla de Simpson 3/8 para un segmento:\"\n",
    "print \"    Valor por regla de Simpson= %.6f. Lo cual da un error = %.2fporciento\\\n",
    "\"%(Simp38(0.8/3,aux[0],aux[1],aux[2],aux[3]),(real-Simp38(0.8/3,aux[0],aux[1],aux[2],aux[3]))*100/real)\n",
    "\n",
    "print \"\\nRegla de Simpson 3/8 para segmentos multiples :\"\n",
    "print \"    Valor por regla de Simpson= %.6f. Lo cual da un error = %.2fporciento\\\n",
    "\"%(SimpInt(0.0,0.8,5,aux2),(real-SimpInt(0.0,0.8,5,aux2))*100/real)"
   ]
  },
  {
   "cell_type": "markdown",
   "metadata": {},
   "source": [
    "# Implementar las fórmulas de diferencias divididas finitas de las figuras 23.1, 23.2 y 23.3\n",
    "# Desarrolle el Ejemplo 23.1"
   ]
  },
  {
   "cell_type": "code",
   "execution_count": 1,
   "metadata": {
    "collapsed": false
   },
   "outputs": [
    {
     "name": "stdout",
     "output_type": "stream",
     "text": [
      "El Va. Real de la 1era derivada=  -0.9125\n",
      "\n",
      "Usando DDFdE O(h):\n",
      "\n",
      "|            |   Hacia adelante |   Hacia atras |   Centrada |\n",
      "|:-----------|-----------------:|--------------:|-----------:|\n",
      "| Estimacion |           -1.155 |        -0.714 |     -0.934 |\n",
      "| Et(%)      |           26.541 |        21.747 |      2.397 |\n",
      "\n",
      "Usando DDFdE O(h^2):\n",
      "\n",
      "|            |   Hacia adelante |   Hacia atras |   Centrada |\n",
      "|:-----------|-----------------:|--------------:|-----------:|\n",
      "| Estimacion |          -0.8594 |       -0.8781 |    -0.9125 |\n",
      "| Et(%)      |           5.8219 |        3.7671 |     0.0000 |\n"
     ]
    }
   ],
   "source": [
    "import math\n",
    "from tabulate import tabulate\n",
    "\n",
    "xi,h=0.5,0.25\n",
    "x,fun,tabla,tabla2,titulo=[],[],[],[],[\"Estimacion\",\"Et(%)\"]\n",
    "aux1,aux2,aux3,aux4,aux5,aux6=[],[],[],[],[],[]\n",
    "\n",
    "def function(x):\n",
    "    fx=(-0.1*math.pow(x,4))-(0.15*math.pow(x,3))-(0.5*math.pow(x,2))-(0.25*x)+1.2\n",
    "    return fx\n",
    "\n",
    "def functionDer(x):\n",
    "    fx=(-4*0.1*math.pow(x,3))-(3*0.15*math.pow(x,2))-(2*0.5*x)-(0.25)\n",
    "    return fx\n",
    "\n",
    "def error(aprx):\n",
    "    e=math.fabs((functionDer(xi)-aprx)*100/functionDer(xi))\n",
    "    return e\n",
    "\n",
    "def llenar():\n",
    "    z=0\n",
    "    while (z<=1.0):\n",
    "        fun.append(function(z))\n",
    "        z+=h\n",
    "    haciaAdelante()\n",
    "    haciaAtras()\n",
    "    centrada()\n",
    "    \n",
    "def haciaAdelante():\n",
    "    f1=(fun[3]-fun[2])/h\n",
    "    f2=(-fun[4]+4*fun[3]-3*fun[2])/(2*h)\n",
    "    aux1.append(f1)\n",
    "    aux1.append(error(f1))\n",
    "    aux2.append(f2)\n",
    "    aux2.append(error(f2))\n",
    "\n",
    "def haciaAtras():\n",
    "    f1=(fun[2]-fun[1])/h\n",
    "    f2=(3*fun[2]-4*fun[1]+fun[0])/(2*h)\n",
    "    aux3.append(f1)\n",
    "    aux3.append(error(f1))\n",
    "    aux4.append(f2)\n",
    "    aux4.append(error(f2))\n",
    "\n",
    "def centrada():\n",
    "    f1=(fun[3]-fun[1])/(2*h)\n",
    "    f2=(-fun[4]+8*fun[3]-8*fun[1]+fun[0])/(12*h)\n",
    "    aux5.append(f1)\n",
    "    aux5.append(error(f1))\n",
    "    aux6.append(f2)\n",
    "    aux6.append(error(f2))\n",
    "\n",
    "def tabular():\n",
    "    for i in range (2):\n",
    "        tabla.append([titulo[i],aux1[i],aux3[i],aux5[i]])\n",
    "        tabla2.append([titulo[i],aux2[i],aux4[i],aux6[i]])\n",
    "    \n",
    "llenar()\n",
    "print \"El Va. Real de la 1era derivada= \", functionDer(xi)\n",
    "tabular()\n",
    "print \"\\nUsando DDFdE O(h):\\n\"\n",
    "print tabulate(tabla,headers=[\" \",\"Hacia adelante\", \"Hacia atras\", \"Centrada\"],tablefmt=\"pipe\",floatfmt=\".3f\")\n",
    "print \"\\nUsando DDFdE O(h^2):\\n\"\n",
    "print tabulate(tabla2,headers=[\" \",\"Hacia adelante\", \"Hacia atras\", \"Centrada\"],tablefmt=\"pipe\",floatfmt=\".4f\")"
   ]
  },
  {
   "cell_type": "code",
   "execution_count": null,
   "metadata": {
    "collapsed": true
   },
   "outputs": [],
   "source": []
  }
 ],
 "metadata": {
  "kernelspec": {
   "display_name": "Python 2",
   "language": "python",
   "name": "python2"
  },
  "language_info": {
   "codemirror_mode": {
    "name": "ipython",
    "version": 2
   },
   "file_extension": ".py",
   "mimetype": "text/x-python",
   "name": "python",
   "nbconvert_exporter": "python",
   "pygments_lexer": "ipython2",
   "version": "2.7.11"
  }
 },
 "nbformat": 4,
 "nbformat_minor": 0
}
