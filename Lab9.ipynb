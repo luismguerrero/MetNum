{
 "cells": [
  {
   "cell_type": "markdown",
   "metadata": {},
   "source": [
    "# Lab9 "
   ]
  },
  {
   "cell_type": "code",
   "execution_count": 45,
   "metadata": {
    "collapsed": false
   },
   "outputs": [
    {
     "name": "stdout",
     "output_type": "stream",
     "text": [
      "Valor x     |   valor y  \n",
      "       4.0  |         3.0\n"
     ]
    }
   ],
   "source": [
    "import math\n",
    "import pylab as pl\n",
    "valx1 = []\n",
    "valy1 = []\n",
    "valx2 = []\n",
    "valy2 = []\n",
    "t=0\n",
    "print (\"{0:10}  |  {1:10}\".format(\"Valor x\",\" valor y\"));\n",
    "while (t<7):\n",
    "    \n",
    "    x2a=(-3*t+18)/2\n",
    "    x2b=(2+t)/2\n",
    "    valx1.append(t)\n",
    "    valy1.append(x2a)\n",
    "    valx2.append(t)\n",
    "    valy2.append(x2b)\n",
    "    if x2a==x2b:\n",
    "        print (\"{0:10}  |  {1:10}\".format(t,x2a));\n",
    "    t+=0.5\n",
    "    \n",
    "pl.plot(valx1,valy1,\"b\")\n",
    "pl.plot(valx2,valy2,\"r\")\n",
    "pl.title(\"Algebra Lab8 \\n \")\n",
    "pl.xlabel(\"x\")\n",
    "pl.ylabel(\"y\")\n",
    "f=[\" 3x1+2x2=18 \",\" -x1+2x2=2 \"]\n",
    "pl.legend(f,loc=2)\n",
    "pl.xlim(0, 6)\n",
    "pl.ylim(0, 8)\n",
    "pl.savefig(\"test.png\")\n",
    "pl.grid(True)\n",
    "\n",
    "pl.show()\n",
    "\n",
    "\n",
    "\n",
    "    "
   ]
  },
  {
   "cell_type": "code",
   "execution_count": null,
   "metadata": {
    "collapsed": true
   },
   "outputs": [],
   "source": []
  }
 ],
 "metadata": {
  "kernelspec": {
   "display_name": "Python 2",
   "language": "python",
   "name": "python2"
  },
  "language_info": {
   "codemirror_mode": {
    "name": "ipython",
    "version": 2
   },
   "file_extension": ".py",
   "mimetype": "text/x-python",
   "name": "python",
   "nbconvert_exporter": "python",
   "pygments_lexer": "ipython2",
   "version": "2.7.11"
  }
 },
 "nbformat": 4,
 "nbformat_minor": 0
}
