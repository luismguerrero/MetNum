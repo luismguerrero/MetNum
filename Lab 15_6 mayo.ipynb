{
 "cells": [
  {
   "cell_type": "markdown",
   "metadata": {},
   "source": [
    "# interpolación lineal "
   ]
  },
  {
   "cell_type": "code",
   "execution_count": 4,
   "metadata": {
    "collapsed": false
   },
   "outputs": [
    {
     "name": "stdout",
     "output_type": "stream",
     "text": [
      "0.358351893846\n"
     ]
    }
   ],
   "source": [
    "import math\n",
    "import numpy as np\n",
    "import pylab as pl\n",
    "valoresx1 = []\n",
    "valoresy1 = []\n",
    "valoresx = []\n",
    "valoresy = []\n",
    "valoresx2=[]\n",
    "valoresy2=[]\n",
    "x0=1\n",
    "x1=6\n",
    "x=2\n",
    "\n",
    "def fx1(x):\n",
    "        return math.log(x)\n",
    "def fix(x0,x1,x):\n",
    "    return (fx1(x0))+((fx1(x1)-fx1(x0))/(x1-x0))*(x-x0)\n",
    "\n",
    "\n",
    "y1=fix(x0,x1,x)\n",
    "valoresx1.append(x)\n",
    "valoresy1.append(y1)\n",
    "print y1\n",
    "\n",
    "valoresx.append(x0)\n",
    "valoresy.append(0)\n",
    "y=fx1(x1)\n",
    "valoresx.append(x1)\n",
    "valoresy.append(y)\n",
    "\n",
    "\n",
    "while (x0<=x1):\n",
    "    y1=fx1(x0)\n",
    "    valoresx2.append(x0)\n",
    "    valoresy2.append(y1)\n",
    "    x=x0\n",
    "    x0+=0.00001\n",
    "\n",
    "\n",
    "f1=  pl.plot(valoresx1,valoresy1, '.')\n",
    "f2=  pl.plot(valoresx,valoresy,\"r\")\n",
    "f3=  pl.plot(valoresx2,valoresy2, \"g\")\n",
    "\n",
    "\n",
    "pl.title(\"Interpolacion Lineal\")\n",
    "pl.xlabel(\"x\")\n",
    "pl.ylabel(\"y\")\n",
    "f=[\"puntos f(x)\",\"Interpolacion Lineal\",\"Real\"]\n",
    "pl.legend(f,loc=4)\n",
    "pl.xlim(0, 7)\n",
    "pl.ylim(0, 2.5)\n",
    "pl.grid(True)\n",
    "\n",
    "pl.show()"
   ]
  },
  {
   "cell_type": "markdown",
   "metadata": {
    "collapsed": true
   },
   "source": [
    "# interpolación cuadratica\n"
   ]
  },
  {
   "cell_type": "code",
   "execution_count": 3,
   "metadata": {
    "collapsed": false
   },
   "outputs": [
    {
     "name": "stdout",
     "output_type": "stream",
     "text": [
      "0.565844346901\n"
     ]
    }
   ],
   "source": [
    "import math\n",
    "import numpy as np\n",
    "import pylab as pl\n",
    "valoresx1 = []\n",
    "valoresy1 = []\n",
    "valoresx = []\n",
    "valoresy = []\n",
    "valoresx2=[]\n",
    "valoresy2=[]\n",
    "x0=1\n",
    "x1=4\n",
    "x2=6\n",
    "x=2\n",
    "\n",
    "def fx1(x):\n",
    "        return math.log(x)\n",
    "def fix(x0,x1,x2,x):\n",
    "    return (fx1(x0))+(((fx1(x1)-fx1(x0))/(x1-x0))*(x-x0))+(((((fx1(x2)-fx1(x1))/(x2-x1))-((fx1(x1)-fx1(x0))/(x1-x0)))/(x2-x0))*(x-x0))*(x-x1)\n",
    "\n",
    "y1=fix(x0,x1,x2,x)\n",
    "valoresx1.append(x)\n",
    "valoresy1.append(y1)\n",
    "print y1\n",
    "\n",
    "valoresx.append(x0)\n",
    "valoresy.append(0)\n",
    "y=fx1(x1)\n",
    "valoresx.append(x1)\n",
    "valoresy.append(y)\n",
    "y=fx1(x2)\n",
    "valoresx.append(x2)\n",
    "valoresy.append(y)\n",
    "\n",
    "\n",
    "\n",
    "while (x0<=x2):\n",
    "    y1=fx1(x0)\n",
    "    valoresx2.append(x0)\n",
    "    valoresy2.append(y1)\n",
    "    x=x0\n",
    "    x0+=0.00001\n",
    "\n",
    "\n",
    "f1=  pl.plot(valoresx1,valoresy1, '.')\n",
    "f2=  pl.plot(valoresx,valoresy,\"r\")\n",
    "f3=  pl.plot(valoresx2,valoresy2, \"g\")\n",
    "\n",
    "\n",
    "pl.title(\"Interpolacion Cuadratica\")\n",
    "pl.xlabel(\"x\")\n",
    "pl.ylabel(\"y\")\n",
    "f=[\"puntos f(x)\",\"Interpolacion Cuadratica\",\"Real\"]\n",
    "pl.legend(f,loc=4)\n",
    "pl.xlim(0, 7)\n",
    "pl.ylim(0, 2.5)\n",
    "pl.grid(True)\n",
    "\n",
    "pl.show()"
   ]
  },
  {
   "cell_type": "code",
   "execution_count": null,
   "metadata": {
    "collapsed": true
   },
   "outputs": [],
   "source": []
  }
 ],
 "metadata": {
  "kernelspec": {
   "display_name": "Python 2",
   "language": "python",
   "name": "python2"
  },
  "language_info": {
   "codemirror_mode": {
    "name": "ipython",
    "version": 2
   },
   "file_extension": ".py",
   "mimetype": "text/x-python",
   "name": "python",
   "nbconvert_exporter": "python",
   "pygments_lexer": "ipython2",
   "version": "2.7.11"
  }
 },
 "nbformat": 4,
 "nbformat_minor": 0
}
