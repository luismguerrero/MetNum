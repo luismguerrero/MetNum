{
 "cells": [
  {
   "cell_type": "markdown",
   "metadata": {},
   "source": [
    "# Lab2"
   ]
  },
  {
   "cell_type": "code",
   "execution_count": 1,
   "metadata": {
    "collapsed": false
   },
   "outputs": [
    {
     "name": "stdout",
     "output_type": "stream",
     "text": [
      "t   Mtd Analitico    Mtd Numerico \n",
      "\n",
      "0   0.0   0\n",
      "2   16.4049808029   19.6\n",
      "4   27.7692914639   32.0046989721\n",
      "6   35.6417515631   39.855543696\n",
      "8   41.0952832258   44.8242868326\n",
      "10   44.8731375713   47.9689686121\n",
      "12   47.4901909486   49.9592150834\n",
      "14   49.3031164225   51.2188277547\n",
      "16   50.5589940452   52.0160275511\n",
      "18   51.4289849112   52.5205695661\n",
      "20   52.0316583671   52.8398905771\n",
      "22   52.4491515944   53.0419865473\n",
      "24   52.7383639252   53.1698916327\n",
      "26   52.9387115399   53.250841841\n",
      "28   53.0774994216   53.3020746453\n",
      "30   53.1736426979   53.3344995186\n",
      "32   53.2402445473   53.3550209875\n",
      "34   53.286382005   53.3680088776\n",
      "36   53.3183430544   53.3762288197\n",
      "38   53.3404836042   53.381431162\n"
     ]
    }
   ],
   "source": [
    "import math\n",
    "import numpy as np\n",
    "import pylab as pl\n",
    "\n",
    "valx1 = []\n",
    "valy1 = []\n",
    "valx = []\n",
    "valy = []\n",
    "\n",
    "g=9.8\n",
    "t=0\n",
    "mas=68.1\n",
    "c=12.5\n",
    "\n",
    "print \"t   Mtd Analitico    Mtd Numerico \\n\"\n",
    "\n",
    "def v(t):\n",
    "    return ((g*mas/c)*(1-math.exp(-(c/mas)*t)))\n",
    "while (t<50):\n",
    "    valx1.append(t)\n",
    "    valy1.append(v(t))\n",
    "    t=t+1\n",
    "\n",
    "ti=0\n",
    "aux=2\n",
    "ti1=ti+aux\n",
    "vt=0\n",
    "\n",
    "def vmn(ti,ti1):\n",
    "    return vt+(g-(c/mas)*vt)*(ti1-ti)\n",
    "while (ti<50):\n",
    "    valx.append(ti)\n",
    "    valy.append(vt)\n",
    "    print ti,\" \",v(ti),\" \",vt\n",
    "    vt=vmn(ti,ti1)\n",
    "    ti=ti+aux\n",
    "    ti1+=aux\n",
    "    \n",
    "\n",
    "f1=  pl.plot(valx1,valy1,\"g\")\n",
    "f2=  pl.plot(valx,valy,'.')\n",
    "\n",
    "\n",
    "pl.title(\"Paracaidista Lab2\\n\")\n",
    "pl.xlabel(\"x\")\n",
    "pl.ylabel(\"y\")\n",
    "f=[\"Solucion Analitica\",\"Solucion Metodos Numericos\"]\n",
    "pl.legend(f,loc=4)\n",
    "pl.xlim(0, 50)\n",
    "pl.ylim(0, 60)\n",
    "pl.grid(True)\n",
    "\n",
    "pl.show()"
   ]
  },
  {
   "cell_type": "code",
   "execution_count": null,
   "metadata": {
    "collapsed": true
   },
   "outputs": [],
   "source": []
  }
 ],
 "metadata": {
  "kernelspec": {
   "display_name": "Python 2",
   "language": "python",
   "name": "python2"
  },
  "language_info": {
   "codemirror_mode": {
    "name": "ipython",
    "version": 2
   },
   "file_extension": ".py",
   "mimetype": "text/x-python",
   "name": "python",
   "nbconvert_exporter": "python",
   "pygments_lexer": "ipython2",
   "version": "2.7.11"
  }
 },
 "nbformat": 4,
 "nbformat_minor": 0
}
