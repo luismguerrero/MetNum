{
 "cells": [
  {
   "cell_type": "markdown",
   "metadata": {},
   "source": [
    "# Lab 13"
   ]
  },
  {
   "cell_type": "markdown",
   "metadata": {},
   "source": [
    "Calculo para analisis de error en ajuste lineal\n"
   ]
  },
  {
   "cell_type": "code",
   "execution_count": 3,
   "metadata": {
    "collapsed": false
   },
   "outputs": [
    {
     "name": "stdout",
     "output_type": "stream",
     "text": [
      "Matriz :\n",
      "[[ 1.   0.5]\n",
      " [ 2.   2.5]\n",
      " [ 3.   2. ]\n",
      " [ 4.   4. ]\n",
      " [ 5.   3.5]\n",
      " [ 6.   6. ]\n",
      " [ 7.   5.5]] \n",
      "\n",
      "[28.0, 24.0, 119.5, 140.0]\n",
      "0.839285714286\n",
      "0.0714285714286\n"
     ]
    }
   ],
   "source": [
    "import numpy as np\n",
    "import math\n",
    "import pylab as plt\n",
    "A = np.array([[1,0.5], [2, 2.5], [3, 2.0], [4,4.0],[5,3.5], [6,6.0], [7,5.5]])\n",
    "x=[]\n",
    "a=0\n",
    "cont=0\n",
    "lo=0\n",
    "x2=0\n",
    "li2=0\n",
    "vx=[]\n",
    "vy=[]\n",
    "print \"Matriz :\"\n",
    "print A, \"\\n\"\n",
    "for l in range(2):\n",
    "    m=(A.size)/2\n",
    "    for k in range(m):\n",
    "        lo=A[k,l]+lo\n",
    "        if l==0:\n",
    "            li2=(A[k,l]**2)+li2\n",
    "        if l==1:\n",
    "            x2=A[k,0]*A[k,1]+x2\n",
    "        if k==(m-1):\n",
    "            x.append(lo)\n",
    "            \n",
    "            if l==1:\n",
    "                x.append(x2)\n",
    "                x.append(li2)\n",
    "            lo=0\n",
    "print x\n",
    "a2=((m*x[3])-(x[0])**2)\n",
    "a1=((m*x[2])-(x[0]*x[1]))/((m*x[3])-(x[0])**2)\n",
    "a0=(x[1]/m)-a1*(x[0]/m)\n",
    "\n",
    "print a1\n",
    "print a0\n",
    "plt.title(\"Sistema de Ecuaciones\")\n",
    "plt.grid(True)\n",
    "plt.axis([0,10,0,10])\n",
    "plt.ylabel('x2')\n",
    "plt.xlabel('x1')\n",
    "for k in range(m):\n",
    "    y=a0+a1*k\n",
    "    vx.append(k)\n",
    "    vy.append(y)\n",
    "    plt.plot(A[k,0],A[k,1], 'cs')\n",
    "plt.plot(vx,vy,'g')\n",
    "plt.show()"
   ]
  },
  {
   "cell_type": "code",
   "execution_count": null,
   "metadata": {
    "collapsed": true
   },
   "outputs": [],
   "source": []
  }
 ],
 "metadata": {
  "kernelspec": {
   "display_name": "Python 2",
   "language": "python",
   "name": "python2"
  },
  "language_info": {
   "codemirror_mode": {
    "name": "ipython",
    "version": 2
   },
   "file_extension": ".py",
   "mimetype": "text/x-python",
   "name": "python",
   "nbconvert_exporter": "python",
   "pygments_lexer": "ipython2",
   "version": "2.7.11"
  }
 },
 "nbformat": 4,
 "nbformat_minor": 0
}
