{
 "cells": [
  {
   "cell_type": "markdown",
   "metadata": {},
   "source": [
    "# Lab 4\n"
   ]
  },
  {
   "cell_type": "code",
   "execution_count": 28,
   "metadata": {
    "collapsed": false
   },
   "outputs": [
    {
     "name": "stdout",
     "output_type": "stream",
     "text": [
      " Termino | e^x aprox\n",
      "    1      1.0\n",
      "      Et      |        Ea\n",
      " 64.87212707     --- \n",
      " \n",
      " \n",
      "\n",
      " Termino | e^x aprox\n",
      "    2      1.5\n",
      "      Et      |        Ea\n",
      " 9.91475138001     33.3333333333 \n",
      " \n",
      " \n",
      "\n",
      " Termino | e^x aprox\n",
      "    3      1.625\n",
      "      Et      |        Ea\n",
      " 1.45977050462     7.69230769231 \n",
      " \n",
      " \n",
      "\n",
      " Termino | e^x aprox\n",
      "    4      1.64583333333\n",
      "      Et      |        Ea\n",
      " 0.17546961216     1.26582278481 \n",
      " \n",
      " \n",
      "\n",
      " Termino | e^x aprox\n",
      "    5      1.6484375\n",
      "      Et      |        Ea\n",
      " 0.0172145258846     0.157977883096 \n",
      " \n",
      " \n",
      "\n",
      " Termino | e^x aprox\n",
      "    6      1.64869791667\n",
      "      Et      |        Ea\n",
      " 0.00141651379707     0.0157952930027 \n",
      " \n",
      " \n",
      "\n"
     ]
    }
   ],
   "source": [
    "import math\n",
    "\n",
    "n=3\n",
    "es=0.5*(10**(2-n))\n",
    "x=0.5\n",
    "aux=0\n",
    "termino=1\n",
    "verdadero=math.exp(x)\n",
    "ant=-1\n",
    "ea=100\n",
    "valor=0\n",
    "\n",
    "def f(x):\n",
    "    return (x**aux)/(math.factorial(aux))\n",
    "while (ea>=es):\n",
    "    valor+=f(x)\n",
    "    et=((verdadero-valor)/valor)*100\n",
    "    if(ant<0):\n",
    "        ea=\"---\"\n",
    "    if(ant>=0):\n",
    "        ea=((valor-ant)/valor)*100\n",
    "    ant=valor\n",
    "   \n",
    "    print\" Termino | e^x aprox\" \n",
    "    print \"   \",termino,\"    \", valor\n",
    "    print\"      Et      |        Ea\"\n",
    "    print \"\",et,\"   \",ea,\"\\n \\n \\n\"\n",
    "    aux+=1\n",
    "    termino+=1\n",
    "\n"
   ]
  },
  {
   "cell_type": "code",
   "execution_count": null,
   "metadata": {
    "collapsed": true
   },
   "outputs": [],
   "source": []
  }
 ],
 "metadata": {
  "kernelspec": {
   "display_name": "Python 2",
   "language": "python",
   "name": "python2"
  },
  "language_info": {
   "codemirror_mode": {
    "name": "ipython",
    "version": 2
   },
   "file_extension": ".py",
   "mimetype": "text/x-python",
   "name": "python",
   "nbconvert_exporter": "python",
   "pygments_lexer": "ipython2",
   "version": "2.7.11"
  }
 },
 "nbformat": 4,
 "nbformat_minor": 0
}
