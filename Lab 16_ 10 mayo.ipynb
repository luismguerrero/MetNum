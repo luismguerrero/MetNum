{
 "cells": [
  {
   "cell_type": "markdown",
   "metadata": {},
   "source": [
    "# Interpolación Newton"
   ]
  },
  {
   "cell_type": "code",
   "execution_count": 2,
   "metadata": {
    "collapsed": false
   },
   "outputs": [
    {
     "name": "stdout",
     "output_type": "stream",
     "text": [
      "Numero de puntos a valorar: 4\n",
      "X al cual quiere estimar: 2\n",
      "Ingrese X0: 1\n",
      "Ingrese X1: 4\n",
      "Ingrese X2: 6\n",
      "Ingrese X3: 5\n",
      "Valor de Ln(2) es 0.69314718\n",
      "Valor aproximado de Ln(2) es 0.62876858\n",
      "Coeficiente b0 es 0.00000000\n",
      "Coeficiente b1 es 0.46209812\n",
      "Coeficiente b2 es -0.05187311\n",
      "Coeficiente b3 es 0.00786553\n"
     ]
    },
    {
     "data": {
      "image/png": "[encoded data removed]",
      "text/plain": [
       "<matplotlib.figure.Figure at 0x6bb6668>"
      ]
     },
     "metadata": {},
     "output_type": "display_data"
    }
   ],
   "source": [
    "import math\n",
    "import matplotlib.pyplot as plt\n",
    "%matplotlib inline\n",
    "\n",
    "coefB,equis,ye,new,xi,yi=[],[],[],[],[],[]\n",
    "n = int(raw_input(\"Numero de puntos a valorar: \"))\n",
    "x= float(raw_input(\"X al cual quiere estimar: \"))\n",
    "\n",
    "for i in range(n):\n",
    "    xi.append(float(raw_input(\"Ingrese X%d: \"%(i))))\n",
    "\n",
    "def funcion(num):\n",
    "    value=math.log(num)\n",
    "    return value \n",
    "\n",
    "def coeficientes(vector):\n",
    "    while(len(coefB)<len(vector)):\n",
    "        if(len(coefB)==0):\n",
    "            coefB.append(funcion(vector[0]))\n",
    "        else:\n",
    "            coefB.append(metodo(vector[0:len(coefB)+1]))\n",
    "    \n",
    "def metodo(aux):\n",
    "    r=0\n",
    "    if(len(aux)==2):\n",
    "        r=(funcion(aux[1])-funcion(aux[0]))/(aux[1]-aux[0])\n",
    "    else: \n",
    "        r=(metodo(aux[1:len(aux)])-metodo(aux[0:len(aux)-1]))/(aux[len(aux)-1]-aux[0])\n",
    "    return r\n",
    "\n",
    "def newton(real):\n",
    "    fx=0\n",
    "    for i in range(len(coefB)):\n",
    "        mult=1\n",
    "        for o in range(i):\n",
    "            mult=mult*(real-xi[o])\n",
    "        fx+=coefB[i]*mult\n",
    "    return fx\n",
    "\n",
    "def graficar():\n",
    "    cont=1\n",
    "    for i in range(n):\n",
    "        yi.append(funcion(xi[i]))\n",
    "    while(cont<=14):\n",
    "        equis.append(cont)\n",
    "        ye.append(funcion(cont))\n",
    "        new.append(newton(cont))\n",
    "        cont+=0.2\n",
    "        \n",
    "coeficientes(xi)\n",
    "graficar()\n",
    "print \"Valor de Ln(%d) es %.8f\" %(x,funcion(x))\n",
    "print \"Valor aproximado de Ln(%d) es %.8f\" %(x,newton(x))\n",
    "\n",
    "for k in range (n):\n",
    "    print \"Coeficiente b%d es %.8f\" %(k,coefB[k])\n",
    "\n",
    "plt.title(\"Interpolacion de Newton\")\n",
    "plt.axis([0,15,0,4])\n",
    "plt.grid(True)\n",
    "plt.ylabel('f(x)')\n",
    "plt.xlabel('x')\n",
    "plt.plot(equis,new, 'm-',linewidth=2.0, label=\"Estimacion\")\n",
    "plt.plot(equis,ye, 'c-',linewidth=2.0,label=\"Ln(x)\")\n",
    "plt.plot(xi,yi, 'bo',linewidth=2.0, label=\"Puntos\")\n",
    "plt.plot(x,funcion(x), 'ro',linewidth=3.0, label=\"Valor Verdadero\")\n",
    "plt.legend(loc = 'upper left', numpoints = 1)\n",
    "plt.show()"
   ]
  },
  {
   "cell_type": "markdown",
   "metadata": {
    "collapsed": true
   },
   "source": [
    " "
   ]
  },
  {
   "cell_type": "code",
   "execution_count": null,
   "metadata": {
    "collapsed": true
   },
   "outputs": [],
   "source": []
  }
 ],
 "metadata": {
  "kernelspec": {
   "display_name": "Python 2",
   "language": "python",
   "name": "python2"
  },
  "language_info": {
   "codemirror_mode": {
    "name": "ipython",
    "version": 2
   },
   "file_extension": ".py",
   "mimetype": "text/x-python",
   "name": "python",
   "nbconvert_exporter": "python",
   "pygments_lexer": "ipython2",
   "version": "2.7.11"
  }
 },
 "nbformat": 4,
 "nbformat_minor": 0
}
