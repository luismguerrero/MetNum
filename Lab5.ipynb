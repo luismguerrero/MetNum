{
 "cells": [
  {
   "cell_type": "markdown",
   "metadata": {},
   "source": [
    "# Lab5"
   ]
  },
  {
   "cell_type": "code",
   "execution_count": 3,
   "metadata": {
    "collapsed": false,
    "scrolled": true
   },
   "outputs": [
    {
     "name": "stdout",
     "output_type": "stream",
     "text": [
      "Orden  f(xi+1)  Error Relativo   Error Absoluto\n",
      "  0     1.2     83.3333333333     N/A\n",
      "  1     0.95     78.9473684211     26.3157894737\n",
      "  2     0.45     55.5555555556     111.111111111\n",
      "  3     0.3     33.3333333333     50.0\n",
      "  4     0.2     0.0     50.0\n"
     ]
    }
   ],
   "source": [
    "import math\n",
    "x=0\n",
    "xi1=1\n",
    "h=xi1-x\n",
    "#print \"Ingrese el orden de la funcion\"\n",
    "#orden = int(input(\"Orden: \"))\n",
    "def fx(x):\n",
    "    return (-0.1*(x**4))-(0.15*(x**3))-(0.5*(x**2))-(0.25*x)+1.2\n",
    "\n",
    "def faprox(x,orden):\n",
    "    f=(-0.1*(x**4))-(0.15*(x**3))-(0.5*(x**2))-(0.25*x)+1.2\n",
    "    f1=(-0.4*((x)**3))-(0.45*((x)**2))-(1*(x))-0.25\n",
    "    f2=(-1.2*((x)**2))-(0.9*(x))-1\n",
    "    f3=(-2.4*(x))-0.9\n",
    "    f4=-2.4\n",
    "    deri=[f1,f2,f3,f4]\n",
    "    aux=f\n",
    "    n=0\n",
    "    while orden > 0:\n",
    "        aux+=(deri[n]/math.factorial(n+1))*(h**(n+1))\n",
    "        n+=1\n",
    "        orden-=1\n",
    "    return aux\n",
    "orden=0\n",
    "verdadero=fx(1)\n",
    "anterior=\"0\"\n",
    "errorabsoluto=100\n",
    "print \"Orden  f(xi+1)  Error Relativo   Error Absoluto\"\n",
    "while (orden<=4):\n",
    "    errorrelativo=math.fabs(((verdadero-faprox(x,orden))/faprox(x,orden))*100)\n",
    "    if(anterior==\"0\"):\n",
    "        errorabsoluto=\"N/A\"\n",
    "    if(anterior!=\"0\"):\n",
    "        errorabsoluto=math.fabs((((faprox(x,orden)-anterior)/faprox(x,orden)))*100)\n",
    "    print \" \",orden,\"   \",faprox(x,orden),\"   \",errorrelativo,\"   \",errorabsoluto\n",
    "    anterior=faprox(x,orden)\n",
    "    orden+=1"
   ]
  },
  {
   "cell_type": "code",
   "execution_count": null,
   "metadata": {
    "collapsed": true
   },
   "outputs": [],
   "source": []
  },
  {
   "cell_type": "code",
   "execution_count": null,
   "metadata": {
    "collapsed": true
   },
   "outputs": [],
   "source": []
  }
 ],
 "metadata": {
  "kernelspec": {
   "display_name": "Python 2",
   "language": "python",
   "name": "python2"
  },
  "language_info": {
   "codemirror_mode": {
    "name": "ipython",
    "version": 2
   },
   "file_extension": ".py",
   "mimetype": "text/x-python",
   "name": "python",
   "nbconvert_exporter": "python",
   "pygments_lexer": "ipython2",
   "version": "2.7.11"
  }
 },
 "nbformat": 4,
 "nbformat_minor": 0
}
