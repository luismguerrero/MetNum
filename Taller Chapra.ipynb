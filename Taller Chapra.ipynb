{
 "cells": [
  {
   "cell_type": "markdown",
   "metadata": {},
   "source": [
    "# Ejercicio 3.9"
   ]
  },
  {
   "cell_type": "markdown",
   "metadata": {},
   "source": [
    "cos x por series de McClaurin"
   ]
  },
  {
   "cell_type": "code",
   "execution_count": 3,
   "metadata": {
    "collapsed": false
   },
   "outputs": [
    {
     "name": "stdout",
     "output_type": "stream",
     "text": [
      "\n",
      "Cos(x):\n",
      "\n",
      "1.0\n",
      "0.555867801951\n",
      "0.588743370175\n",
      "0.587769963616\n",
      "0.587785403659\n",
      "0.587785251272\n",
      "\n",
      "Tabla redondeando a 8 cifras significativas:\n",
      "\n",
      "  Cos (x)\n",
      "---------\n",
      " 1\n",
      " 0.555868\n",
      " 0.588743\n",
      " 0.58777\n",
      " 0.587785\n",
      " 0.587785\n"
     ]
    }
   ],
   "source": [
    "import math\n",
    "from tabulate import tabulate\n",
    "\n",
    "x=math.radians((0.3)*180)\n",
    "coseno=math.cos(x)\n",
    "valor=round(coseno,8)\n",
    "value2=0.0\n",
    "ant=[]\n",
    "valAprx=[]\n",
    "tabla=[]\n",
    "i=0\n",
    "print\"\\nCos(x):\\n\"\n",
    "while 1:\n",
    "    if(i%2==0):\n",
    "        value = (math.pow(x, (i*2)))/math.factorial(i*2)\n",
    "        valueAnt = value2\n",
    "        value2+=value\n",
    "        ant.append(valueAnt)\n",
    "        valAprx.append(value2)\n",
    "    else:\n",
    "        value = (math.pow(x, (i*2)))/math.factorial(i*2)\n",
    "        valueAnt = value2\n",
    "        value2-=value\n",
    "        ant.append(valueAnt)\n",
    "        valAprx.append(value2)\n",
    "    print value2\n",
    "    tabla.append([valAprx[i]])\n",
    "    i+=1\n",
    "    if(round(value2, 8)==valor):\n",
    "        break\n",
    "print\"\\nTabla redondeando a 8 cifras significativas:\\n\"\n",
    "print tabulate(tabla, headers=[\"Cos (x)\"])"
   ]
  },
  {
   "cell_type": "markdown",
   "metadata": {},
   "source": [
    "# Ejercicio  3.10 "
   ]
  },
  {
   "cell_type": "markdown",
   "metadata": {},
   "source": [
    "Ecuación cuadrática"
   ]
  },
  {
   "cell_type": "code",
   "execution_count": 4,
   "metadata": {
    "collapsed": false
   },
   "outputs": [
    {
     "name": "stdout",
     "output_type": "stream",
     "text": [
      "X1= 5000.000000 and X2= 0.002000\n",
      "X1= 5000.000000 and X2= 0.002000\n",
      "\n",
      "\n",
      "  Metodo 1    Metodo 2\n",
      "----------  ----------\n",
      "      5000       0.002\n",
      "      5000       0.002\n"
     ]
    }
   ],
   "source": [
    "import math\n",
    "from tabulate import tabulate \n",
    "\n",
    "a=1\n",
    "b=-5000.002\n",
    "c=10\n",
    "disc=math.pow(b,2)-4*a*c\n",
    "metodo1, metodo2, tabla=[], [], []\n",
    "\n",
    "#Método 1-fórmula 3.12  \n",
    "if(disc<0):\n",
    "    print \"raices imaginarias\"\n",
    "else:\n",
    "    x1=(-b+math.sqrt(disc))/(2*a) \n",
    "    x2=(-b-math.sqrt(disc))/(2*a)  \n",
    "    print \"X1= %f and X2= %f\" %(round(x1,5),round(x2,5))  \n",
    "metodo1.append(x1)\n",
    "metodo1.append(x2)\n",
    "\n",
    "#Método 2-fórmula 3.13\n",
    "xb1=(-2*c)/(b+math.sqrt(disc))\n",
    "xb2=(-2*c)/(b-math.sqrt(disc))\n",
    "print \"X1= %f and X2= %f\" %(round(xb1,5),round(xb2,5)) \n",
    "metodo2.append(xb1)\n",
    "metodo2.append(xb2)\n",
    "\n",
    "tabla=([metodo1[0:],metodo2[0:]])\n",
    "print\"\\n\"\n",
    "print tabulate(tabla, headers=[\"Metodo 1\", \"Metodo 2\"])"
   ]
  },
  {
   "cell_type": "code",
   "execution_count": null,
   "metadata": {
    "collapsed": true
   },
   "outputs": [],
   "source": []
  }
 ],
 "metadata": {
  "kernelspec": {
   "display_name": "Python 2",
   "language": "python",
   "name": "python2"
  },
  "language_info": {
   "codemirror_mode": {
    "name": "ipython",
    "version": 2
   },
   "file_extension": ".py",
   "mimetype": "text/x-python",
   "name": "python",
   "nbconvert_exporter": "python",
   "pygments_lexer": "ipython2",
   "version": "2.7.11"
  }
 },
 "nbformat": 4,
 "nbformat_minor": 0
}
