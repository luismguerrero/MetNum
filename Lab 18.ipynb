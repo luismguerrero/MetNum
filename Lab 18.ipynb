{
 "cells": [
  {
   "cell_type": "markdown",
   "metadata": {},
   "source": [
    "# Interpolación de Lagrange"
   ]
  },
  {
   "cell_type": "code",
   "execution_count": 1,
   "metadata": {
    "collapsed": false
   },
   "outputs": [
    {
     "name": "stdout",
     "output_type": "stream",
     "text": [
      "Ln(2) primer orden es: 0.4620981\n",
      "Ln(2) segundo orden es: 0.5658443\n"
     ]
    },
    {
     "data": {
      "image/png": "[encoded data removed]",
      "text/plain": [
       "<matplotlib.figure.Figure at 0x72033c8>"
      ]
     },
     "metadata": {},
     "output_type": "display_data"
    }
   ],
   "source": [
    "import math\n",
    "import matplotlib.pyplot as plt\n",
    "%matplotlib inline\n",
    "\n",
    "n,X,x,y,t,y1,y2= 3,2,[],[],[],[],[]\n",
    "x = [1,4,6]\n",
    "\n",
    "for k in range(n):\n",
    "    y.append(math.log(x[k]))\n",
    "\n",
    "def Lagrng(x,y,n,X):\n",
    "    sum=0\n",
    "    for i in range(n):\n",
    "        product = y[i]\n",
    "        for j in range(n):\n",
    "            if (i!=j):\n",
    "                product = product*(X-x[j])/(x[i]-x[j])\n",
    "        sum = sum+product \n",
    "    return sum\n",
    "\n",
    "print \"Ln(2) primer orden es: %.7f\"%(Lagrng(x,y,2,X))\n",
    "print \"Ln(2) segundo orden es: %.7f\"%(Lagrng(x,y,3,X))\n",
    "\n",
    "i = 0.0\n",
    "while(i<50):\n",
    "    i += 0.5\n",
    "    y1.append(Lagrng(x,y,2,i))\n",
    "    y2.append(Lagrng(x,y,3,i))\n",
    "    t.append(i)\n",
    "    \n",
    "plt.title('Interpolacion de Lagrange')\n",
    "plt.ylabel('Y')\n",
    "plt.xlabel('X')\n",
    "plt.plot(t,y1,'m-',linewidth=3.0,label=\"Primer Grado\")\n",
    "plt.plot(t,y2,'b-',linewidth=3.0,label=\"Segundo Grado\")\n",
    "plt.axis([-5, 50, -5, 25])\n",
    "plt.legend(loc = 'upper left', numpoints = 1)\n",
    "plt.grid(True)\n",
    "plt.show()"
   ]
  },
  {
   "cell_type": "markdown",
   "metadata": {},
   "source": [
    "# Para cualquier Grado"
   ]
  },
  {
   "cell_type": "code",
   "execution_count": 1,
   "metadata": {
    "collapsed": false
   },
   "outputs": [
    {
     "name": "stdout",
     "output_type": "stream",
     "text": [
      "Ingrese el numero de puntos: 3\n",
      "Ingrese el x al cual quiere estimar: 2\n",
      "Ingrese el X0: 1\n",
      "Ingrese el X1: 4\n",
      "Ingrese el X2: 6\n",
      "La estimación para Ln(2) es: 0.565844\n"
     ]
    }
   ],
   "source": [
    "import math\n",
    "x,y=[],[]\n",
    "\n",
    "n = int(raw_input(\"Ingrese el numero de puntos: \"))\n",
    "X= float(raw_input(\"Ingrese el x al cual quiere estimar: \"))\n",
    "\n",
    "def funcion(num):\n",
    "    value=math.log(num)\n",
    "    return value\n",
    "\n",
    "for i in range(n):\n",
    "    x.append(float(raw_input(\"Ingrese el X%d: \"%(i))))\n",
    "    y.append(funcion(x[i]))\n",
    "\n",
    "def Lagrng():\n",
    "    sum=0\n",
    "    for i in range (n):\n",
    "        product=y[i]\n",
    "        for j in range (n):\n",
    "            if (i!=j):\n",
    "                product=product*(X-x[j])/(x[i]-x[j])\n",
    "        sum=sum+product\n",
    "    return sum\n",
    "    \n",
    "print \"La estimación para Ln(%d) es: %f\" %(X,Lagrng())"
   ]
  },
  {
   "cell_type": "markdown",
   "metadata": {},
   "source": [
    "\n"
   ]
  }
 ],
 "metadata": {
  "kernelspec": {
   "display_name": "Python 2",
   "language": "python",
   "name": "python2"
  },
  "language_info": {
   "codemirror_mode": {
    "name": "ipython",
    "version": 2
   },
   "file_extension": ".py",
   "mimetype": "text/x-python",
   "name": "python",
   "nbconvert_exporter": "python",
   "pygments_lexer": "ipython2",
   "version": "2.7.11"
  }
 },
 "nbformat": 4,
 "nbformat_minor": 0
}
