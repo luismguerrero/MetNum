{
 "cells": [
  {
   "cell_type": "markdown",
   "metadata": {},
   "source": [
    "# Lab 17"
   ]
  },
  {
   "cell_type": "markdown",
   "metadata": {},
   "source": [
    "# Punto 1 y 2"
   ]
  },
  {
   "cell_type": "code",
   "execution_count": 3,
   "metadata": {
    "collapsed": false
   },
   "outputs": [
    {
     "name": "stdout",
     "output_type": "stream",
     "text": [
      "1)\n",
      "\n",
      "Media   9.652\n",
      "Desviacion Estandar 0.703041013503\n",
      "Varianza  0.494266666667\n",
      "CV 0.0728388948925\n",
      "e) Intervalo de Confianza: 9.3617846696 <- Media <-9.9422153304\n",
      "\n",
      "2)\n",
      "\n"
     ]
    },
    {
     "data": {
      "image/png": "[encoded data removed]",
      "text/plain": [
       "<matplotlib.figure.Figure at 0x7cdf9b0>"
      ]
     },
     "metadata": {},
     "output_type": "display_data"
    }
   ],
   "source": [
    "import math\n",
    "import matplotlib.pyplot as plt\n",
    "from matplotlib.pylab import hist,show\n",
    "%matplotlib inline \n",
    "datos=[8.8,9.5,9.8,9.4,10.0,9.4,10.1,9.2,11.3,9.4,10.0,10.4,7.9,10.4,9.8,9.8,9.5,8.9,8.8,10.6,10.1,9.5,9.6,10.2,8.9]\n",
    "\n",
    "def media():\n",
    "    suma=0.0\n",
    "    for i in range(len(datos)):\n",
    "        suma+=datos[i]\n",
    "    m=suma/len(datos)\n",
    "    return m\n",
    "\n",
    "def varianza():\n",
    "    var=0.0\n",
    "    for j in range(len(datos)):\n",
    "        var+=math.pow((datos[j]-media()),2)\n",
    "    v=var/(len(datos)-1)\n",
    "    return v\n",
    "\n",
    "def confianza():\n",
    "    L=media()-((math.sqrt(varianza())/math.sqrt(len(datos)))*2.064)\n",
    "    U=media()+((math.sqrt(varianza())/math.sqrt(len(datos)))*2.064)\n",
    "    print \"e) Intervalo de Confianza: %.10f <- Media <-%.10f\" %(L,U)\n",
    "\n",
    "print \"1)\\n\"\n",
    "print \"Media  \",media()\n",
    "print \"Desviacion Estandar\",(math.sqrt(varianza()))\n",
    "print \"Varianza \",varianza()\n",
    "print \"CV\", (math.sqrt(varianza())/media())\n",
    "confianza()\n",
    "\n",
    "print \"\\n2)\\n\"\n",
    "hist(datos,15,(7.5,11.5))\n",
    "plt.title(\"Histograma\")\n",
    "plt.ylabel('Frecuencia')\n",
    "plt.xlabel('Datos')\n",
    "plt.show()"
   ]
  },
  {
   "cell_type": "markdown",
   "metadata": {},
   "source": [
    "# Punto 3"
   ]
  },
  {
   "cell_type": "code",
   "execution_count": 8,
   "metadata": {
    "collapsed": false
   },
   "outputs": [
    {
     "name": "stdout",
     "output_type": "stream",
     "text": [
      "3)\n",
      "\n",
      "a) Media =  28.0035714286\n",
      "b) Desviacion Estandar =  1.09729706395\n",
      "c) Varianza =  1.20406084656\n",
      "d) CV=  0.039184182873\n",
      "e) Intervalo de Confianza: 27.6504209091 <= Media <= 28.3567219481\n",
      "f) Histograma\n",
      "g) El rango del 68 porciento: (26.90627436 , 29.10086849)\n"
     ]
    },
    {
     "data": {
      "image/png": "[encoded data removed]",
      "text/plain": [
       "<matplotlib.figure.Figure at 0x8244208>"
      ]
     },
     "metadata": {},
     "output_type": "display_data"
    }
   ],
   "source": [
    "import math\n",
    "import matplotlib.pyplot as plt\n",
    "from matplotlib.pylab import hist,show\n",
    "%matplotlib inline \n",
    "\n",
    "datos=[28.65, 26.55, 26.65, 27.65, 27.35, 28.35, 26.85, 28.65, 29.65, 27.85, 27.05, 28.25, 28.35, 26.75, 27.65, 28.45, 28.65, 28.45, 31.65, 26.35, 27.75, 29.25, 27.65, 28.65, 27.65, 28.55, 27.55, 27.25]\n",
    "\n",
    "def media():\n",
    "    suma=0.0\n",
    "    for i in range(len(datos)):\n",
    "        suma+=datos[i]\n",
    "    m=suma/len(datos)\n",
    "    return m\n",
    "\n",
    "def varianza():\n",
    "    var=0.0\n",
    "    for j in range(len(datos)):\n",
    "        var+=math.pow((datos[j]-media()),2)\n",
    "    v=var/(len(datos)-1)\n",
    "    return v\n",
    "\n",
    "def confianza():\n",
    "    L=media()-((math.sqrt(varianza())/math.sqrt(len(datos)))*1.703)\n",
    "    U=media()+((math.sqrt(varianza())/math.sqrt(len(datos)))*1.703)\n",
    "    print \"e) Intervalo de Confianza: %.10f <= Media <= %.10f\" %(L,U)\n",
    "\n",
    "print \"3)\\n\"\n",
    "print \"a) Media = \",media()\n",
    "print \"b) Desviacion Estandar = \",(math.sqrt(varianza()))\n",
    "print \"c) Varianza = \",varianza()\n",
    "print \"d) CV= \", (math.sqrt(varianza())/media())\n",
    "confianza()\n",
    "print \"f) Histograma\"\n",
    "lim1=media()-math.sqrt(varianza())\n",
    "lim2=media()+math.sqrt(varianza())\n",
    "print \"g) El rango del 68 porciento: (%.8f , %.8f)\" %(lim1,lim2)\n",
    "hist(datos,28,(26,32))\n",
    "plt.title(\"Histograma\")\n",
    "plt.ylabel('Frecuencia')\n",
    "plt.xlabel('Datos')\n",
    "show()"
   ]
  },
  {
   "cell_type": "markdown",
   "metadata": {},
   "source": [
    "# Punto 4"
   ]
  },
  {
   "cell_type": "code",
   "execution_count": 9,
   "metadata": {
    "collapsed": false
   },
   "outputs": [
    {
     "name": "stdout",
     "output_type": "stream",
     "text": [
      "Para la primera parte:\n",
      " \n",
      "La pendiente o coeficiente a1 =  0.352469959947\n",
      "La interseccion eje Y o coeficiente a0 =  4.82777036048\n",
      "El coeficiente de correlacion es =  0.914767284879\n",
      "El error estandar de la estimacion es =  1.06534108674\n"
     ]
    },
    {
     "data": {
      "image/png": "[encoded data removed]",
      "text/plain": [
       "<matplotlib.figure.Figure at 0x83a8b70>"
      ]
     },
     "metadata": {},
     "output_type": "display_data"
    },
    {
     "name": "stdout",
     "output_type": "stream",
     "text": [
      "Para la segunda parte:\n",
      " \n",
      "La pendiente o coeficiente a1 =  2.37410071942\n",
      "La interseccion eje Y o coeficiente a0 =  -9.9928057554\n",
      "El coeficiente de correlacion es =  0.914767284879\n",
      "El error estandar de la estimacion es =  2.76416907242\n"
     ]
    },
    {
     "data": {
      "image/png": "[encoded data removed]",
      "text/plain": [
       "<matplotlib.figure.Figure at 0x8363e10>"
      ]
     },
     "metadata": {},
     "output_type": "display_data"
    },
    {
     "name": "stdout",
     "output_type": "stream",
     "text": [
      "Se puede observar que:\n",
      "    1) El coeficiente de correlacion es el mismo para ambas partes. Esto quiere decir que así se alternen\n",
      "       las variables, su relación sigue siendo igual. En estos casos, el coeficiente se aproxima a 1,\n",
      "       lo que significa que las relaciones son fuertes y directas.\n",
      "   2) Para la primera parte se obtiene un mejor ajuste por  minimos cuadrados. Pues la recta esta mas cercana a los\n",
      "      puntos dados inicialmente.\n"
     ]
    }
   ],
   "source": [
    "import math\n",
    "import matplotlib.pyplot as plt\n",
    "import matplotlib.pyplot as plt2\n",
    "%matplotlib inline \n",
    "\n",
    "x = [0, 2, 4, 6, 9, 11, 12, 15, 17, 19]  \n",
    "y = [5, 6, 7, 6, 9, 8, 7, 10, 12, 12]\n",
    "tiempo,ecuacion1,ecuacion2,valores=[],[],[],[]\n",
    "n=len(x)\n",
    "\n",
    "for t in range (1, 16):\n",
    "    tiempo.append(t)\n",
    "\n",
    "def sumProd(vec1,vec2):\n",
    "    suma1=0\n",
    "    for i in range(n):\n",
    "        suma1+=(vec1[i]*vec2[i])\n",
    "    return suma1\n",
    "\n",
    "def sumXY(vec1,vec2):\n",
    "    suma2=0\n",
    "    suma3=0\n",
    "    for j in range (n):\n",
    "        suma2+=vec1[j]\n",
    "        suma3+=vec2[j]\n",
    "    producto=suma2*suma3\n",
    "    return producto\n",
    "\n",
    "def sumCuadr(vec1):\n",
    "    suma4=0\n",
    "    for k in range(n):\n",
    "        suma4+=math.pow(vec1[k],2)\n",
    "    return suma4\n",
    "\n",
    "def cuadrado(vec1):    \n",
    "    suma5=0\n",
    "    for l in range(n):\n",
    "        suma5+=vec1[l]\n",
    "    return (math.pow(suma5,2))\n",
    "\n",
    "def mediaX(vec1): \n",
    "    suma6=0\n",
    "    for o in range(n):\n",
    "        suma6+=vec1[o]\n",
    "    return (suma6/len(vec1))\n",
    "\n",
    "def mediaY(vec2):\n",
    "    suma7=0\n",
    "    for m in range(n):\n",
    "        suma7+=vec2[m]\n",
    "    return (suma7/len(vec2))\n",
    "\n",
    "def raices(vec1,vec2):\n",
    "    raiz1=0\n",
    "    raiz2=0\n",
    "    sumx=0\n",
    "    sumcx=0\n",
    "    sumy=0\n",
    "    sumcy=0\n",
    "    for k in range(n):\n",
    "        sumx+=math.pow(vec1[k],2)\n",
    "        sumcx+=vec1[k]\n",
    "        sumy+=math.pow(vec2[k],2)\n",
    "        sumcy+=vec2[k]\n",
    "    raiz1=math.sqrt(((n*sumx)-(math.pow(sumcx,2))))\n",
    "    raiz2=math.sqrt(((n*sumy)-(math.pow(sumcy,2))))\n",
    "    return (raiz1*raiz2)\n",
    "\n",
    "def coeficiente(vec1,vec2):\n",
    "    r=(((n*sumProd(vec1,vec2))-sumXY(vec1,vec2))/(raices(vec1,vec2)))\n",
    "    return (r)\n",
    "\n",
    "def error(vec1,vec2,a1,a0):\n",
    "    sr=0\n",
    "    for p in range(n):\n",
    "        sr+=math.pow(vec2[p]-a0-a1*vec1[p],2)\n",
    "    syx=math.sqrt(sr/(n-2))\n",
    "    return syx\n",
    "    \n",
    "a1A=(n*sumProd(x,y)-sumXY(x,y))/(n*sumCuadr(x)-cuadrado(x))\n",
    "a0A=mediaY(y)-a1A*mediaX(x)\n",
    "\n",
    "a1B=(n*sumProd(y,x)-sumXY(y,x))/(n*sumCuadr(y)-cuadrado(y))\n",
    "a0B=mediaY(x)-a1B*mediaX(y)\n",
    "\n",
    "for w in range (20):\n",
    "    func1=a0A+(a1A*w)\n",
    "    ecuacion1.append(func1)\n",
    "    func2=a0B+(a1B*w)\n",
    "    ecuacion2.append(func2)\n",
    "    valores.append(w)\n",
    "    \n",
    "print \"Para la primera parte:\\n \"\n",
    "print \"La pendiente o coeficiente a1 = \", a1A\n",
    "print \"La interseccion eje Y o coeficiente a0 = \", a0A\n",
    "print \"El coeficiente de correlacion es = \", coeficiente(x,y)\n",
    "print \"El error estandar de la estimacion es = \", error(x,y,a1A,a0A)\n",
    "\n",
    "plt.title(\"Grafica #1\")\n",
    "plt.grid(True)\n",
    "plt.axis([0,20,0,15])\n",
    "plt.ylabel('f(x)')\n",
    "plt.xlabel('x')\n",
    "plt.plot(x, y, 'co', label=\"Valores iniciales\")\n",
    "plt.plot(valores, ecuacion1, 'm--', linewidth=2.0, label=\"y=4.823+0.352x\")\n",
    "plt.legend(loc = 'lower right', numpoints = 2)\n",
    "plt.show()\n",
    "\n",
    "print \"Para la segunda parte:\\n \"\n",
    "print \"La pendiente o coeficiente a1 = \", a1B\n",
    "print \"La interseccion eje Y o coeficiente a0 = \", a0B\n",
    "print \"El coeficiente de correlacion es = \", coeficiente(y,x)\n",
    "print \"El error estandar de la estimacion es = \", error(y,x,a1B,a0B)\n",
    "\n",
    "plt2.title(\"Grafica #2\")\n",
    "plt2.grid(True)\n",
    "plt2.axis([0,15,-10,25])\n",
    "plt2.ylabel('f(x)')\n",
    "plt2.xlabel('x')\n",
    "plt2.plot(y, x, 'ro', label=\"Valores iniciales\")\n",
    "plt2.plot(valores, ecuacion2, 'b--', linewidth=2.0, label=\"y=-9.992+2.374x\")\n",
    "plt2.legend(loc = 'lower right', numpoints = 2)\n",
    "plt2.show()\n",
    "\n",
    "print \"Se puede observar que:\\n    1) El coeficiente de correlacion es el mismo para ambas partes. Esto quiere decir que así\\\n",
    " se alternen\\n       las variables, su relación sigue siendo igual. En estos casos, el coeficiente se aproxima a 1,\\n      \\\n",
    " lo que significa que las relaciones son fuertes y directas.\\n   2) Para la primera parte se obtiene un mejor ajuste por \\\n",
    " minimos cuadrados. Pues la recta esta mas cercana a los\\n      puntos dados inicialmente.\""
   ]
  },
  {
   "cell_type": "markdown",
   "metadata": {},
   "source": [
    "# Punto 5"
   ]
  },
  {
   "cell_type": "code",
   "execution_count": 10,
   "metadata": {
    "collapsed": false
   },
   "outputs": [
    {
     "name": "stdout",
     "output_type": "stream",
     "text": [
      "Para la primera parte:\n",
      " \n",
      "El coeficiente de correlacion es =  -0.901488948765\n",
      "El error estandar de la estimacion es =  4.53671203407\n"
     ]
    },
    {
     "data": {
      "image/png": "[encoded data removed]",
      "text/plain": [
       "<matplotlib.figure.Figure at 0x8101518>"
      ]
     },
     "metadata": {},
     "output_type": "display_data"
    },
    {
     "name": "stdout",
     "output_type": "stream",
     "text": [
      "Agregando x=10 , y=10:\n",
      " \n",
      "El coeficiente de correlacion es =  -0.815879159879\n",
      "El error estandar de la estimacion es =  5.73690624011\n"
     ]
    },
    {
     "data": {
      "image/png": "[encoded data removed]",
      "text/plain": [
       "<matplotlib.figure.Figure at 0x7fd32e8>"
      ]
     },
     "metadata": {},
     "output_type": "display_data"
    },
    {
     "name": "stdout",
     "output_type": "stream",
     "text": [
      "La medición es invalida, se puede observar en la gráfica #2 que se comporta como valor atipico\n",
      "ya que esta muy distante del resto de valores. Además, agregando x=10, y=10, el error estándar\n",
      "cuantifica una mayor dispersión de los datos  alrededor de la línea de regresión.\n"
     ]
    }
   ],
   "source": [
    "import math\n",
    "import matplotlib.pyplot as plt\n",
    "import matplotlib.pyplot as plt2\n",
    "%matplotlib inline \n",
    "\n",
    "x=[ 6, 7, 11, 15, 17, 21, 23, 29, 29, 37, 39] \n",
    "y = [29, 21, 29, 14, 21, 15, 7, 7, 13, 0, 3]\n",
    "x2=[ 6, 7, 11, 15, 17, 21, 23, 29, 29, 37, 39,10] \n",
    "y2= [29, 21, 29, 14, 21, 15, 7, 7, 13, 0, 3,10]\n",
    "\n",
    "tiempo,ecuacion1,ecuacion2,valores=[],[],[],[]\n",
    "n,n2=len(x),len(x2)\n",
    "\n",
    "for t in range (1, 16):\n",
    "    tiempo.append(t)\n",
    "\n",
    "def sumProd(vec1,vec2, cont):\n",
    "    suma1=0\n",
    "    for i in range(cont):\n",
    "        suma1+=(vec1[i]*vec2[i])\n",
    "    return suma1\n",
    "\n",
    "def sumXY(vec1,vec2,cont):\n",
    "    suma2=0\n",
    "    suma3=0\n",
    "    for j in range (cont):\n",
    "        suma2+=vec1[j]\n",
    "        suma3+=vec2[j]\n",
    "    producto=suma2*suma3\n",
    "    return producto\n",
    "\n",
    "def sumCuadr(vec1, cont):\n",
    "    suma4=0\n",
    "    for k in range(cont):\n",
    "        suma4+=math.pow(vec1[k],2)\n",
    "    return suma4\n",
    "\n",
    "def cuadrado(vec1, cont):    \n",
    "    suma5=0\n",
    "    for l in range(cont):\n",
    "        suma5+=vec1[l]\n",
    "    return (math.pow(suma5,2))\n",
    "\n",
    "def mediaX(vec1, cont): \n",
    "    suma6=0\n",
    "    for o in range(cont):\n",
    "        suma6+=vec1[o]\n",
    "    return (suma6/len(vec1))\n",
    "\n",
    "def mediaY(vec2, cont):\n",
    "    suma7=0\n",
    "    for m in range(cont):\n",
    "        suma7+=vec2[m]\n",
    "    return (suma7/len(vec2))\n",
    "\n",
    "def raices(vec1,vec2,cont):\n",
    "    raiz1=0\n",
    "    raiz2=0\n",
    "    sumx=0\n",
    "    sumcx=0\n",
    "    sumy=0\n",
    "    sumcy=0\n",
    "    for k in range(cont):\n",
    "        sumx+=math.pow(vec1[k],2)\n",
    "        sumcx+=vec1[k]\n",
    "        sumy+=math.pow(vec2[k],2)\n",
    "        sumcy+=vec2[k]\n",
    "    raiz1=math.sqrt(((cont*sumx)-(math.pow(sumcx,2))))\n",
    "    raiz2=math.sqrt(((cont*sumy)-(math.pow(sumcy,2))))\n",
    "    return (raiz1*raiz2)\n",
    "\n",
    "def coeficiente(vec1,vec2,cont):\n",
    "    r=(((cont*sumProd(vec1,vec2,cont))-sumXY(vec1,vec2,cont))/(raices(vec1,vec2,cont)))\n",
    "    return (r)\n",
    "\n",
    "def error(vec1,vec2,a1,a0,cont):\n",
    "    sr=0\n",
    "    for p in range(cont):\n",
    "        sr+=math.pow(vec2[p]-a0-a1*vec1[p],2)\n",
    "    syx=math.sqrt(sr/(cont-2))\n",
    "    return syx\n",
    "    \n",
    "a1A=(n*sumProd(x,y,n)-sumXY(x,y,n))/(n*sumCuadr(x,n)-cuadrado(x,n))\n",
    "a0A=mediaY(y,n)-a1A*mediaX(x,n)\n",
    "\n",
    "a1B=(n2*sumProd(x2,y2,n2)-sumXY(x2,y2,n2))/(n2*sumCuadr(x2,n2)-cuadrado(x2,n2))\n",
    "a0B=mediaY(y2,n2)-a1B*mediaX(x2,n2)\n",
    "\n",
    "for w in range (40):\n",
    "    func1=a0A+(a1A*w)\n",
    "    ecuacion1.append(func1)\n",
    "    func2=a0B+(a1B*w)\n",
    "    ecuacion2.append(func2)\n",
    "    valores.append(w)\n",
    "    \n",
    "print \"Para la primera parte:\\n \"\n",
    "#print \"La pendiente o coeficiente a1 = \", a1A\n",
    "#print \"La interseccion eje Y o coeficiente a0 = \", a0A\n",
    "print \"El coeficiente de correlacion es = \", coeficiente(x,y,n)\n",
    "print \"El error estandar de la estimacion es = \", error(x,y,a1A,a0A,n)\n",
    "\n",
    "plt.title(\"Grafica #1\")\n",
    "plt.grid(True)\n",
    "plt.axis([0,40,0,30])\n",
    "plt.ylabel('f(x)')\n",
    "plt.xlabel('x')\n",
    "plt.plot(x, y, 'co', label=\"Valores iniciales\")\n",
    "plt.plot(valores, ecuacion1, 'm--', linewidth=2.0, label=\"y=30.391-0.780x\")\n",
    "plt.legend(loc = 'lower left', numpoints = 2)\n",
    "plt.show()\n",
    "\n",
    "print \"Agregando x=10 , y=10:\\n \"\n",
    "#print \"La pendiente o coeficiente a1 = \", a1B\n",
    "#print \"La interseccion eje Y o coeficiente a0 = \", a0B\n",
    "print \"El coeficiente de correlacion es = \", coeficiente(x2,y2,n2)\n",
    "print \"El error estandar de la estimacion es = \", error(x2,y2,a1B,a0B,n2)\n",
    "\n",
    "plt2.title(\"Grafica #2\")\n",
    "plt2.grid(True)\n",
    "plt2.axis([0,40,0,30])\n",
    "plt2.ylabel('f(x)')\n",
    "plt2.xlabel('x')\n",
    "plt2.plot(x2, y2, 'ro', label=\"Valores iniciales\")\n",
    "plt2.plot(valores, ecuacion2, 'b--', linewidth=2.0, label=\"y=27.655-0.683x\")\n",
    "plt2.legend(loc = 'lower left', numpoints = 2)\n",
    "plt2.show()\n",
    "\n",
    "print \"La medición es invalida, se puede observar en la gráfica #2 que se comporta como valor atipico\\nya que esta muy distante\\\n",
    " del resto de valores. Además, agregando x=10, y=10, el error estándar\\ncuantifica una mayor dispersión de los datos \\\n",
    " alrededor de la línea de regresión.\""
   ]
  },
  {
   "cell_type": "code",
   "execution_count": null,
   "metadata": {
    "collapsed": true
   },
   "outputs": [],
   "source": []
  }
 ],
 "metadata": {
  "kernelspec": {
   "display_name": "Python 2",
   "language": "python",
   "name": "python2"
  },
  "language_info": {
   "codemirror_mode": {
    "name": "ipython",
    "version": 2
   },
   "file_extension": ".py",
   "mimetype": "text/x-python",
   "name": "python",
   "nbconvert_exporter": "python",
   "pygments_lexer": "ipython2",
   "version": "2.7.11"
  }
 },
 "nbformat": 4,
 "nbformat_minor": 0
}
